{
 "cells": [
  {
   "cell_type": "markdown",
   "id": "37b2bd50",
   "metadata": {},
   "source": [
    "We are going to focus on the modules important for DevOps\n",
    "- **OS (Subprocess)** - Run the shell commands or check the status of a service on the OS.\n",
    "- **Logging** Rather that using print we can use this module logging to print all the errors and monitor it.\n",
    "- **YAML/JSON** This module is used to work with CICD stuff, git actions, Docker\n",
    "- **Regex** - understanding the patterns in the logs working with the, you know patterns there. This is used mostly for monitoring accesses.\n",
    "- **Policy as a code** To write AWS Policies in JSON or YAML"
   ]
  },
  {
   "cell_type": "code",
   "execution_count": null,
   "id": "2087b72e",
   "metadata": {},
   "outputs": [
    {
     "name": "stdout",
     "output_type": "stream",
     "text": [
      "['DevOps-Projects']\n",
      "d:\\Workdirectory\\Hypha Cohort\\DevOps-Projects\\DevOps-Projects\\Python\n"
     ]
    }
   ],
   "source": [
    "import os\n",
    "print(os.listdir('../../.'))\n",
    "print(os.getcwd()) # This script lists the contents of the parent directory and prints the current working directory.\n"
   ]
  }
 ],
 "metadata": {
  "kernelspec": {
   "display_name": "Python 3",
   "language": "python",
   "name": "python3"
  },
  "language_info": {
   "codemirror_mode": {
    "name": "ipython",
    "version": 3
   },
   "file_extension": ".py",
   "mimetype": "text/x-python",
   "name": "python",
   "nbconvert_exporter": "python",
   "pygments_lexer": "ipython3",
   "version": "3.13.5"
  }
 },
 "nbformat": 4,
 "nbformat_minor": 5
}
