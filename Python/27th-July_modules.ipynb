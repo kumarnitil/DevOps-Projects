{
 "cells": [
  {
   "cell_type": "markdown",
   "id": "37b2bd50",
   "metadata": {},
   "source": [
    "We are going to focus on the modules important for DevOps\n",
    "- **OS (Subprocess)** - Run the shell commands or check the status of a service on the OS.\n",
    "- **Logging** Rather that using print we can use this module logging to print all the errors and monitor it.\n",
    "- **YAML/JSON** This module is used to work with CICD stuff, git actions, Docker\n",
    "- **Regex** - understanding the patterns in the logs working with the, you know patterns there. This is used mostly for monitoring accesses.\n",
    "- **Policy as a code** To write AWS Policies in JSON or YAML"
   ]
  },
  {
   "cell_type": "code",
   "execution_count": null,
   "id": "047b4621",
   "metadata": {},
   "outputs": [],
   "source": []
  }
 ],
 "metadata": {
  "language_info": {
   "name": "python"
  }
 },
 "nbformat": 4,
 "nbformat_minor": 5
}
