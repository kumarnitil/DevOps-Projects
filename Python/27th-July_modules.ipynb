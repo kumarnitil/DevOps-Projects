{
 "cells": [
  {
   "cell_type": "code",
   "execution_count": null,
   "id": "047b4621",
   "metadata": {},
   "outputs": [],
   "source": []
  }
 ],
 "metadata": {
  "language_info": {
   "name": "python"
  }
 },
 "nbformat": 4,
 "nbformat_minor": 5
}
