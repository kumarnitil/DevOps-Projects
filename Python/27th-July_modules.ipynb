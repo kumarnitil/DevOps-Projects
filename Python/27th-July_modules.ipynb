{
 "cells": [
  {
   "cell_type": "markdown",
   "id": "37b2bd50",
   "metadata": {},
   "source": [
    "We are going to focus on the modules important for DevOps\n",
    "- **OS (Subprocess)** - Run the shell commands or check the status of a service on the OS.\n",
    "- **Logging** Rather that using print we can use this module logging to print all the errors and monitor it.\n",
    "- **YAML/JSON** This module is used to work with CICD stuff, git actions, Docker\n",
    "- **Regex** - understanding the patterns in the logs working with the, you know patterns there. This is used mostly for monitoring accesses.\n",
    "- **Policy as a code** To write AWS Policies in JSON or YAML"
   ]
  },
  {
   "cell_type": "code",
   "execution_count": 7,
   "id": "2087b72e",
   "metadata": {},
   "outputs": [
    {
     "name": "stdout",
     "output_type": "stream",
     "text": [
      "['DevOps-Projects']\n",
      "d:\\Workdirectory\\Hypha Cohort\\DevOps-Projects\\DevOps-Projects\\Python\n",
      "c:\\Users\\ADMIN\\AppData\\Local\\Microsoft\\WindowsApps;c:\\Users\\ADMIN\\AppData\\Local\\Packages\\PythonSoftwareFoundation.Python.3.13_qbz5n2kfra8p0\\LocalCache\\local-packages\\Python313\\Scripts;C:\\Program Files\\Amazon Corretto\\jdk17.0.13_11\\bin;C:\\WINDOWS\\system32;C:\\WINDOWS;C:\\WINDOWS\\System32\\Wbem;C:\\WINDOWS\\System32\\WindowsPowerShell\\v1.0\\;C:\\WINDOWS\\System32\\OpenSSH\\;C:\\ProgramData\\chocolatey\\bin;C:\\Program Files\\Vagrant\\bin;C:\\Program Files\\Git\\cmd;C:\\ProgramData\\chocolatey\\lib\\maven\\apache-maven-3.9.9\\bin;C:\\Program Files\\Amazon\\AWSCLIV2\\;C:\\Program Files\\Microsoft VS Code\\bin;C:\\Program Files\\PuTTY\\;C:\\Users\\ADMIN\\AppData\\Local\\Microsoft\\WindowsApps;;C:\\Program Files\\Oracle\\VirtualBox;C:\\Program Files\\Amazon Corretto\\jdk17.0.13_11\\bin;C:\\WINDOWS\\system32;C:\\WINDOWS;C:\\WINDOWS\\System32\\Wbem;C:\\WINDOWS\\System32\\WindowsPowerShell\\v1.0\\;C:\\WINDOWS\\System32\\OpenSSH\\;C:\\ProgramData\\chocolatey\\bin;C:\\Program Files\\Vagrant\\bin;C:\\Program Files\\Git\\cmd;C:\\ProgramData\\chocolatey\\lib\\maven\\apache-maven-3.9.9\\bin;C:\\Program Files\\Amazon\\AWSCLIV2\\;C:\\Program Files\\Microsoft VS Code\\bin;C:\\Program Files\\PuTTY\\;C:\\Users\\ADMIN\\AppData\\Local\\Microsoft\\WindowsApps;;C:\\Program Files\\Oracle\\VirtualBox\n",
      "None\n"
     ]
    }
   ],
   "source": [
    "import os\n",
    "print(os.listdir('../../.'))\n",
    "print(os.getcwd()) # This script lists the contents of the parent directory and prints the current working directory.\n",
    "print(os.environ.get('PATH')) # It also prints the PATH environment variable.\n",
    "print(os.environ.get(\"access_key\"))"
   ]
  }
 ],
 "metadata": {
  "kernelspec": {
   "display_name": "Python 3",
   "language": "python",
   "name": "python3"
  },
  "language_info": {
   "codemirror_mode": {
    "name": "ipython",
    "version": 3
   },
   "file_extension": ".py",
   "mimetype": "text/x-python",
   "name": "python",
   "nbconvert_exporter": "python",
   "pygments_lexer": "ipython3",
   "version": "3.13.5"
  }
 },
 "nbformat": 4,
 "nbformat_minor": 5
}
