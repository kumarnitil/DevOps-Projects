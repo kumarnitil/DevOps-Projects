{
 "cells": [
  {
   "cell_type": "markdown",
   "id": "37b2bd50",
   "metadata": {},
   "source": [
    "We are going to focus on the modules important for DevOps\n",
    "- **OS (Subprocess)** - Run the shell commands or check the status of a service on the OS.\n",
    "- **Logging** Rather that using print we can use this module logging to print all the errors and monitor it.\n",
    "- **YAML/JSON** This module is used to work with CICD stuff, git actions, Docker\n",
    "- **Regex** - understanding the patterns in the logs working with the, you know patterns there. This is used mostly for monitoring accesses.\n",
    "- **Policy as a code** To write AWS Policies in JSON or YAML"
   ]
  },
  {
   "cell_type": "code",
   "execution_count": 1,
   "id": "2087b72e",
   "metadata": {},
   "outputs": [
    {
     "name": "stdout",
     "output_type": "stream",
     "text": [
      "['DevOps-Projects']\n",
      "d:\\Workdirectory\\Hypha Cohort\\DevOps-Projects\\DevOps-Projects\\Python\n",
      "None\n"
     ]
    }
   ],
   "source": [
    "import os\n",
    "print(os.listdir('../../.'))\n",
    "print(os.getcwd()) # This script lists the contents of the parent directory and prints the current working directory.\n",
    "# (os.environ.get('PATH')) # It also prints the PATH environment variable.\n",
    "print(os.environ.get(\"access_key\"))"
   ]
  },
  {
   "cell_type": "code",
   "execution_count": null,
   "id": "338bad9d",
   "metadata": {},
   "outputs": [
    {
     "ename": "FileExistsError",
     "evalue": "[WinError 183] Cannot create a file when that file already exists: 'Os_test-module'",
     "output_type": "error",
     "traceback": [
      "\u001b[31m---------------------------------------------------------------------------\u001b[39m",
      "\u001b[31mFileExistsError\u001b[39m                           Traceback (most recent call last)",
      "\u001b[36mCell\u001b[39m\u001b[36m \u001b[39m\u001b[32mIn[4]\u001b[39m\u001b[32m, line 1\u001b[39m\n\u001b[32m----> \u001b[39m\u001b[32m1\u001b[39m \u001b[43mos\u001b[49m\u001b[43m.\u001b[49m\u001b[43mmkdir\u001b[49m\u001b[43m(\u001b[49m\u001b[33;43m'\u001b[39;49m\u001b[33;43mOs_test-module\u001b[39;49m\u001b[33;43m'\u001b[39;49m\u001b[43m)\u001b[49m \u001b[38;5;66;03m# This line creates a new directory named 'Os_test-module' in the current working directory.\u001b[39;00m\n",
      "\u001b[31mFileExistsError\u001b[39m: [WinError 183] Cannot create a file when that file already exists: 'Os_test-module'"
     ]
    }
   ],
   "source": [
    "# os.mkdir('Os_test-module') # This line creates a new directory named 'Os_test-module' in the current working directory."
   ]
  },
  {
   "cell_type": "markdown",
   "id": "b5cb2740",
   "metadata": {},
   "source": [
    "- **subprocess Module**\n"
   ]
  },
  {
   "cell_type": "code",
   "execution_count": 2,
   "id": "d17de09c",
   "metadata": {},
   "outputs": [
    {
     "name": "stdout",
     "output_type": "stream",
     "text": [
      "total 29316\n",
      "drwxr-xr-x  2 kumarnitilubuntu kumarnitilubuntu     4096 Jul 28 01:56 .\n",
      "drwxr-xr-x 10 kumarnitilubuntu kumarnitilubuntu     4096 Jul 27 17:18 ..\n",
      "-rw-r--r--  1 kumarnitilubuntu kumarnitilubuntu     7605 Jul 27 17:18 12th July Flow Control.ipynb\n",
      "-rw-r--r--  1 kumarnitilubuntu kumarnitilubuntu       26 Jul 27 17:18 12th-July.py\n",
      "-rw-r--r--  1 kumarnitilubuntu kumarnitilubuntu      234 Jul 27 17:18 14th July.ipynb\n",
      "-rw-r--r--  1 kumarnitilubuntu kumarnitilubuntu     3081 Jul 27 17:18 17th July Error Handling.ipynb\n",
      "-rw-r--r--  1 kumarnitilubuntu kumarnitilubuntu     1093 Jul 27 17:18 18th July functions.ipynb\n",
      "-rw-r--r--  1 kumarnitilubuntu kumarnitilubuntu     6055 Jul 28 02:02 27th-July_modules.ipynb\n",
      "-rw-r--r--  1 kumarnitilubuntu kumarnitilubuntu     7136 Jul 27 17:18 Day-15-19th May'25- Python Intro, Control Flows, Error Handling, Looping (1).ipynb\n",
      "-rw-r--r--  1 kumarnitilubuntu kumarnitilubuntu    16148 Jul 27 17:18 Day-16-22nd May'25- Control Flows, Error Handling, Looping.ipynb.ipynb\n",
      "-rw-r--r--  1 kumarnitilubuntu kumarnitilubuntu    40035 Jul 27 17:18 Day-17-24th May'25- Functions+Adv Concepts, Memory Managemnet, DS.ipynb\n",
      "-rw-r--r--  1 kumarnitilubuntu kumarnitilubuntu    20898 Jul 27 17:18 Day-18-26th May'25- String Manipulation, Multi-threading, Python Memory Mangement.ipynb\n",
      "-rw-r--r--  1 kumarnitilubuntu kumarnitilubuntu     5516 Jul 27 17:18 Day-19-29th May'25- Modules & Libraries, SDKs, Boto3.ipynb\n",
      "-rw-r--r--  1 kumarnitilubuntu kumarnitilubuntu       85 Jul 27 17:18 DevOps-Projects.code-workspace\n",
      "-rw-r--r--  1 kumarnitilubuntu kumarnitilubuntu    14540 Jul 27 17:18 July-12th-Python.ipynb\n",
      "-rw-r--r--  1 kumarnitilubuntu kumarnitilubuntu 29836186 Jul 27 17:18 boto3demo.zip\n",
      "-rwxr-xr-x  1 kumarnitilubuntu kumarnitilubuntu      144 Jul 28 01:56 checkout.sh\n",
      "-rw-r--r--  1 kumarnitilubuntu kumarnitilubuntu      150 Jul 27 17:18 logfile.txt\n",
      "-rw-r--r--  1 kumarnitilubuntu kumarnitilubuntu       45 Jul 27 17:18 my_module.py\n",
      "-rw-r--r--  1 kumarnitilubuntu kumarnitilubuntu      135 Jul 27 17:18 my_utils.py\n",
      "-rw-r--r--  1 kumarnitilubuntu kumarnitilubuntu       87 Jul 27 17:18 mymodule.py\n",
      "CompletedProcess(args=['ls', '-la'], returncode=0)\n"
     ]
    }
   ],
   "source": [
    "import subprocess\n",
    "print(subprocess.run(['ls', '-la'])) # This line runs the 'ls -l' command in the shell and captures its output.\n",
    "# print(cmd.stdout) # This prints the output of the command."
   ]
  },
  {
   "cell_type": "code",
   "execution_count": 3,
   "id": "db243db9",
   "metadata": {},
   "outputs": [
    {
     "name": "stdout",
     "output_type": "stream",
     "text": [
      "● nginx.service - A high performance web server and a reverse proxy server\n",
      "     Loaded: loaded (/usr/lib/systemd/system/nginx.service; enabled; preset: enabled)\n",
      "     Active: active (running) since Mon 2025-07-28 02:29:46 UTC; 2min 10s ago\n",
      "       Docs: man:nginx(8)\n",
      "    Process: 8822 ExecStartPre=/usr/sbin/nginx -t -q -g daemon on; master_process on; (code=exited, status=0/SUCCESS)\n",
      "    Process: 8824 ExecStart=/usr/sbin/nginx -g daemon on; master_process on; (code=exited, status=0/SUCCESS)\n",
      "   Main PID: 8865 (nginx)\n",
      "      Tasks: 17 (limit: 38335)\n",
      "     Memory: 11.7M (peak: 26.1M)\n",
      "        CPU: 115ms\n",
      "     CGroup: /system.slice/nginx.service\n",
      "             ├─8865 \"nginx: master process /usr/sbin/nginx -g daemon on; master_process on;\"\n",
      "             ├─8868 \"nginx: worker process\"\n",
      "             ├─8869 \"nginx: worker process\"\n",
      "             ├─8870 \"nginx: worker process\"\n",
      "             ├─8871 \"nginx: worker process\"\n",
      "             ├─8872 \"nginx: worker process\"\n",
      "             ├─8873 \"nginx: worker process\"\n",
      "             ├─8874 \"nginx: worker process\"\n",
      "             ├─8875 \"nginx: worker process\"\n",
      "             ├─8876 \"nginx: worker process\"\n",
      "             ├─8877 \"nginx: worker process\"\n",
      "             ├─8878 \"nginx: worker process\"\n",
      "             ├─8879 \"nginx: worker process\"\n",
      "             ├─8880 \"nginx: worker process\"\n",
      "             ├─8881 \"nginx: worker process\"\n",
      "             ├─8882 \"nginx: worker process\"\n",
      "             └─8883 \"nginx: worker process\"\n",
      "\n",
      "Jul 28 02:29:46 DESKTOP-VLB4FOB systemd[1]: Starting nginx.service - A high performance web server and a reverse proxy server...\n",
      "Jul 28 02:29:46 DESKTOP-VLB4FOB systemd[1]: Started nginx.service - A high performance web server and a reverse proxy server.\n",
      "CompletedProcess(args=['systemctl', 'status', 'nginx'], returncode=0)\n",
      "CompletedProcess(args=['systemctl', 'status', 'apache'], returncode=4)\n",
      "CompletedProcess(args=['systemctl', 'status', 'mysql'], returncode=4)\n"
     ]
    },
    {
     "name": "stderr",
     "output_type": "stream",
     "text": [
      "Unit apache.service could not be found.\n",
      "Unit mysql.service could not be found.\n"
     ]
    }
   ],
   "source": [
    "list = [\"nginx\", \"apache\", \"mysql\"]\n",
    "for app in list:\n",
    "    print(subprocess.run(['systemctl', 'status', app]))  # This runs 'systemctl status' for each application in the list and prints the result.\n"
   ]
  }
 ],
 "metadata": {
  "kernelspec": {
   "display_name": "Python 3",
   "language": "python",
   "name": "python3"
  },
  "language_info": {
   "codemirror_mode": {
    "name": "ipython",
    "version": 3
   },
   "file_extension": ".py",
   "mimetype": "text/x-python",
   "name": "python",
   "nbconvert_exporter": "python",
   "pygments_lexer": "ipython3",
   "version": "3.12.3"
  }
 },
 "nbformat": 4,
 "nbformat_minor": 5
}
