{
 "cells": [
  {
   "cell_type": "markdown",
   "id": "37b2bd50",
   "metadata": {},
   "source": [
    "We are going to focus on the modules important for DevOps\n",
    "- **OS (Subprocess)** - Run the shell commands or check the status of a service on the OS.\n",
    "- **Logging** Rather that using print we can use this module logging to print all the errors and monitor it.\n",
    "- **YAML/JSON** This module is used to work with CICD stuff, git actions, Docker\n",
    "- **Regex** - understanding the patterns in the logs working with the, you know patterns there. This is used mostly for monitoring accesses.\n",
    "- **Policy as a code** To write AWS Policies in JSON or YAML"
   ]
  },
  {
   "cell_type": "code",
   "execution_count": 1,
   "id": "2087b72e",
   "metadata": {},
   "outputs": [
    {
     "name": "stdout",
     "output_type": "stream",
     "text": [
      "['DevOps-Projects']\n",
      "d:\\Workdirectory\\Hypha Cohort\\DevOps-Projects\\DevOps-Projects\\Python\n",
      "None\n"
     ]
    }
   ],
   "source": [
    "import os\n",
    "print(os.listdir('../../.'))\n",
    "print(os.getcwd()) # This script lists the contents of the parent directory and prints the current working directory.\n",
    "# (os.environ.get('PATH')) # It also prints the PATH environment variable.\n",
    "print(os.environ.get(\"access_key\"))"
   ]
  },
  {
   "cell_type": "code",
   "execution_count": null,
   "id": "338bad9d",
   "metadata": {},
   "outputs": [
    {
     "ename": "FileExistsError",
     "evalue": "[WinError 183] Cannot create a file when that file already exists: 'Os_test-module'",
     "output_type": "error",
     "traceback": [
      "\u001b[31m---------------------------------------------------------------------------\u001b[39m",
      "\u001b[31mFileExistsError\u001b[39m                           Traceback (most recent call last)",
      "\u001b[36mCell\u001b[39m\u001b[36m \u001b[39m\u001b[32mIn[4]\u001b[39m\u001b[32m, line 1\u001b[39m\n\u001b[32m----> \u001b[39m\u001b[32m1\u001b[39m \u001b[43mos\u001b[49m\u001b[43m.\u001b[49m\u001b[43mmkdir\u001b[49m\u001b[43m(\u001b[49m\u001b[33;43m'\u001b[39;49m\u001b[33;43mOs_test-module\u001b[39;49m\u001b[33;43m'\u001b[39;49m\u001b[43m)\u001b[49m \u001b[38;5;66;03m# This line creates a new directory named 'Os_test-module' in the current working directory.\u001b[39;00m\n",
      "\u001b[31mFileExistsError\u001b[39m: [WinError 183] Cannot create a file when that file already exists: 'Os_test-module'"
     ]
    }
   ],
   "source": [
    "# os.mkdir('Os_test-module') # This line creates a new directory named 'Os_test-module' in the current working directory."
   ]
  },
  {
   "cell_type": "markdown",
   "id": "b5cb2740",
   "metadata": {},
   "source": [
    "- **subprocess Module**\n"
   ]
  },
  {
   "cell_type": "code",
   "execution_count": 1,
   "id": "d17de09c",
   "metadata": {},
   "outputs": [
    {
     "name": "stdout",
     "output_type": "stream",
     "text": [
      "12th July Flow Control.ipynb\n",
      "12th-July.py\n",
      "14th July.ipynb\n",
      "17th July Error Handling.ipynb\n",
      "18th July functions.ipynb\n",
      "27th-July_modules.ipynb\n",
      "Day-15-19th May'25- Python Intro, Control Flows, Error Handling, Looping (1).ipynb\n",
      "Day-16-22nd May'25- Control Flows, Error Handling, Looping.ipynb.ipynb\n",
      "Day-17-24th May'25- Functions+Adv Concepts, Memory Managemnet, DS.ipynb\n",
      "Day-18-26th May'25- String Manipulation, Multi-threading, Python Memory Mangement.ipynb\n",
      "Day-19-29th May'25- Modules & Libraries, SDKs, Boto3.ipynb\n",
      "DevOps-Projects.code-workspace\n",
      "July-12th-Python.ipynb\n",
      "boto3demo.zip\n",
      "checkout.ps1\n",
      "logfile.txt\n",
      "my_module.py\n",
      "my_utils.py\n",
      "mymodule.py\n",
      "\n"
     ]
    }
   ],
   "source": [
    "import subprocess\n",
    "cmd = subprocess.run('ls', capture_output=True, text=True, shell=True) # This line runs the 'dir' command in the shell and captures its output.\n",
    "print(cmd.stdout) # This prints the output of the command."
   ]
  }
 ],
 "metadata": {
  "kernelspec": {
   "display_name": "Python 3",
   "language": "python",
   "name": "python3"
  },
  "language_info": {
   "codemirror_mode": {
    "name": "ipython",
    "version": 3
   },
   "file_extension": ".py",
   "mimetype": "text/x-python",
   "name": "python",
   "nbconvert_exporter": "python",
   "pygments_lexer": "ipython3",
   "version": "3.12.3"
  }
 },
 "nbformat": 4,
 "nbformat_minor": 5
}
