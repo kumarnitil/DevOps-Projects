{
 "cells": [
  {
   "cell_type": "markdown",
   "id": "f4b1f578",
   "metadata": {},
   "source": [
    "Yaml module is basically used for parsing things\n",
    "- YAML file only works in keywords and values\n"
   ]
  },
  {
   "cell_type": "code",
   "execution_count": 5,
   "id": "7f545901",
   "metadata": {},
   "outputs": [
    {
     "name": "stdout",
     "output_type": "stream",
     "text": [
      "<class 'dict'>\n",
      "{'stages': ['build', 'test', 'deploy'], 'build-job': {'stage': 'build', 'script': ['echo \"Building the application\"']}, 'test-job': {'stage': 'test', 'script': ['echo \"Testing the application\"']}, 'deploy-job': {'stage': 'deploy', 'script': ['echo \"Deploying the application\"']}}\n"
     ]
    }
   ],
   "source": [
    "import yaml\n",
    "# yaml.__name__\n",
    "# x = yaml.load\n",
    "# print(type(x))\n",
    "\n",
    "# We would need to define the yaml file structure\n",
    "\n",
    "yaml_file = \"dockerfile.yml\"\n",
    "\n",
    "# Reading from the YAML file\n",
    "with open(yaml_file, 'r') as f:\n",
    "    yaml_data = yaml.load(f, Loader=yaml.FullLoader)\n",
    "    \n",
    "print(type(yaml_data))\n",
    "print(yaml_data)"
   ]
  },
  {
   "cell_type": "markdown",
   "id": "fe2b57d4",
   "metadata": {},
   "source": [
    "Here, we use yaml.dump() to serialize a Python dictionary into YAML format. The resulting YAML data can be written to a file using yaml dump."
   ]
  },
  {
   "cell_type": "code",
   "execution_count": 7,
   "id": "e05e668c",
   "metadata": {},
   "outputs": [
    {
     "name": "stdout",
     "output_type": "stream",
     "text": [
      "age: 30\n",
      "city: New York\n",
      "name: John\n",
      "\n"
     ]
    }
   ],
   "source": [
    "data = {'name': 'John', 'age': 30, 'city': 'New York'}\n",
    "\n",
    "# Serializing dictionary to YAML format\n",
    "yaml_data = yaml.dump(data)\n",
    "\n",
    "# Displaying YAML data\n",
    "print(yaml_data)\n",
    "\n",
    "nested_data = yaml_data\n",
    "with open('nested_data.yml', 'w') as f:\n",
    "    yaml.dump(nested_data, f)"
   ]
  }
 ],
 "metadata": {
  "kernelspec": {
   "display_name": "Python 3",
   "language": "python",
   "name": "python3"
  },
  "language_info": {
   "codemirror_mode": {
    "name": "ipython",
    "version": 3
   },
   "file_extension": ".py",
   "mimetype": "text/x-python",
   "name": "python",
   "nbconvert_exporter": "python",
   "pygments_lexer": "ipython3",
   "version": "3.12.3"
  }
 },
 "nbformat": 4,
 "nbformat_minor": 5
}
