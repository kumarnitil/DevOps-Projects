{
 "cells": [
  {
   "cell_type": "code",
   "execution_count": 5,
   "metadata": {
    "colab": {
     "base_uri": "https://localhost:8080/"
    },
    "executionInfo": {
     "elapsed": 11,
     "status": "ok",
     "timestamp": 1747667714060,
     "user": {
      "displayName": "Hypha Satya",
      "userId": "07678891529461372312"
     },
     "user_tz": -330
    },
    "id": "R91TFw19CIiK",
    "outputId": "5f5db370-6db3-442b-86c2-f17da2987105"
   },
   "outputs": [
    {
     "name": "stdout",
     "output_type": "stream",
     "text": [
      "Hello, world!\n"
     ]
    },
    {
     "ename": "",
     "evalue": "",
     "output_type": "error",
     "traceback": [
      "\u001b[1;31mThe Kernel crashed while executing code in the current cell or a previous cell. \n",
      "\u001b[1;31mPlease review the code in the cell(s) to identify a possible cause of the failure. \n",
      "\u001b[1;31mClick <a href='https://aka.ms/vscodeJupyterKernelCrash'>here</a> for more info. \n",
      "\u001b[1;31mView Jupyter <a href='command:jupyter.viewOutput'>log</a> for further details."
     ]
    }
   ],
   "source": [
    "print(\"Hello, world!\")"
   ]
  },
  {
   "cell_type": "code",
   "execution_count": 3,
   "metadata": {
    "colab": {
     "base_uri": "https://localhost:8080/"
    },
    "executionInfo": {
     "elapsed": 22,
     "status": "ok",
     "timestamp": 1747669000278,
     "user": {
      "displayName": "Hypha Satya",
      "userId": "07678891529461372312"
     },
     "user_tz": -330
    },
    "id": "p-rJkt0qHVwm",
    "outputId": "384c5035-645f-452c-d53d-2464cfca1c01"
   },
   "outputs": [
    {
     "name": "stdout",
     "output_type": "stream",
     "text": [
      "11\n",
      "Alice\n"
     ]
    }
   ],
   "source": [
    "x = 11\n",
    "name = \"Alice\"\n",
    "\n",
    "print(x)\n",
    "print(name)"
   ]
  },
  {
   "cell_type": "code",
   "execution_count": 4,
   "metadata": {
    "id": "JkKLojCeK77k"
   },
   "outputs": [
    {
     "name": "stdout",
     "output_type": "stream",
     "text": [
      "x is greater than 5\n"
     ]
    }
   ],
   "source": [
    "if x > 5:\n",
    "    print(\"x is greater than 5\")"
   ]
  },
  {
   "cell_type": "markdown",
   "metadata": {
    "id": "VVyv_rJBMymM"
   },
   "source": [
    "#Data Types\n",
    "\n",
    "Python has several built-in data types, which can be broadly categorized as follows:\n",
    "\n",
    "Numeric types: Represent numerical values.\n",
    "\n",
    "Sequence types: Represent ordered collections of items.\n",
    "\n",
    "Mapping type: Represents collections of key-value pairs."
   ]
  },
  {
   "cell_type": "markdown",
   "metadata": {
    "id": "W3qa4lmtNd8P"
   },
   "source": [
    "#Integers (int)\n",
    "\n",
    "x = 10\n",
    "\n",
    "y = -5\n",
    "\n",
    "z = 0\n",
    "\n",
    "print(type(x)) #Output <class 'int'>\n",
    "\n",
    "#Float (float)\n",
    "\n",
    "a = 3.14\n",
    "\n",
    "b = -0.001\n",
    "\n",
    "c = 2.0\n",
    "\n",
    "scientific = 3.5e2  # 350.0 (scientific notation)\n",
    "\n",
    "print(type(a))  # Output: <class 'float'>\n",
    "\n",
    "#Complex (complex)\n",
    "\n",
    "c1 = 2 + 3j\n",
    "\n",
    "c2 = complex(2, 3)  # Same as above\n",
    "\n",
    "print(c1.real)  # Output: 2.0\n",
    "\n",
    "print(c1.imag)  # Output: 3.0\n",
    "\n",
    "print(type(c1))  # Output: <class 'complex'>"
   ]
  },
  {
   "cell_type": "markdown",
   "metadata": {
    "id": "Iqjtme02PGMg"
   },
   "source": [
    "#String (str)\n",
    "\n",
    "\n",
    "```\n",
    "#\n",
    "name = \"Alice\"\n",
    "message = 'Hello, World!'\n",
    "multiline = \\\"\\\"\\\"This is a\n",
    "multiline string\\\"\\\"\\\"\n",
    "print(name[0])  # Output: 'A' (indexing)\n",
    "print(len(message))  # Output: 13 (length)\n",
    "print(name + \" Smith\")  # Output: 'Alice Smith' (concatenation)\n",
    "print(\"ice\" in name)  # Output: True (membership test)\n",
    "print(message.upper())  # Output: 'HELLO, WORLD!' (method)\n"
   ]
  },
  {
   "cell_type": "markdown",
   "metadata": {
    "id": "GIwSHRqaQMEv"
   },
   "source": [
    "#List (list)\n",
    "\n",
    "\n",
    "```\n",
    "#\n",
    "fruits = [\"apple\", \"banana\", \"cherry\"]\n",
    "mixed = [1, \"hello\", 3.14, True]\n",
    "fruits.append(\"orange\")  # Add item\n",
    "print(fruits[1])  # Output: 'banana' (indexing)\n",
    "fruits[0] = \"pear\"  # Modify item\n",
    "print(fruits)  # Output: ['pear', 'banana', 'cherry', 'orange']\n",
    "print(len(mixed))  # Output: 4 (length)\n",
    "print(fruits[1:3])  # Output: ['banana', 'cherry'] (slicing)\n",
    "\n"
   ]
  },
  {
   "cell_type": "markdown",
   "metadata": {
    "id": "Rs3-HtSgR6oI"
   },
   "source": [
    "#Tuple (tuple)\n",
    "\n",
    "```\n",
    "#\n",
    "coordinates = (10, 20)\n",
    "mixed_tuple = (1, \"hello\", 3.14)\n",
    "single_item = (42,)  # Note the comma\n",
    "print(coordinates[0])  # Output: 10 (indexing)\n",
    "print(len(mixed_tuple))  # Output: 3 (length)\n",
    "# coordinates[0] = 5  # Error! Tuples are immutable\n",
    "\n"
   ]
  },
  {
   "cell_type": "markdown",
   "metadata": {
    "id": "G8E-RhhXUNtK"
   },
   "source": [
    "#Dictionary (dict)\n",
    "\n",
    "```\n",
    "#\n",
    "capitals = {\"Maharashtra\": \"Mumbai\", \"Gujarat\": \"Gandhinagar\"}\n",
    "print(capitals[\"Gujarat\"])  # Output: Gandhinagar\n",
    "print(capitals.get(\"Karnataka\"))  # Output: None\n",
    "\n",
    "numbers = {10: \"Ten\", 20: \"Twenty\", 30: \"Thirty\"}\n",
    "# Looping over keys and values\n",
    "for key, value in numbers.items():\n",
    "    print(f\"{key}: {value}\")\n",
    "# Looping over values\n",
    "for value in numbers.values():\n",
    "    print(value)\n",
    "# Looping over keys\n",
    "for key in numbers:\n",
    "    print(key)\n",
    "# Looping over keys explicitly\n",
    "for key in numbers.keys():\n",
    "    print(key)\n",
    "\n",
    "```\n",
    "\n"
   ]
  },
  {
   "cell_type": "markdown",
   "metadata": {
    "id": "WP6vZt_WUlAr"
   },
   "source": [
    "#Set (set)\n",
    "\n",
    "```\n",
    "#\n",
    "\n",
    "fruits_set = {\"apple\", \"banana\", \"cherry\"}\n",
    "numbers = {1, 2, 3, 2, 1}  # Duplicates are automatically removed\n",
    "print(numbers)  # Output: {1, 2, 3}\n",
    "fruits_set.add(\"orange\")\n",
    "print(\"banana\" in fruits_set)  # Output: True (membership test)\n",
    "a = {1, 2, 3}\n",
    "b = {3, 4, 5}\n",
    "print(a.union(b))  # Output: {1, 2, 3, 4, 5}\n",
    "print(a.intersection(b))  # Output: {3}\n",
    "```\n",
    "\n"
   ]
  }
 ],
 "metadata": {
  "colab": {
   "authorship_tag": "ABX9TyOYkfMSDFKY7+NHFmSf0b32",
   "provenance": []
  },
  "kernelspec": {
   "display_name": "Python 3",
   "name": "python3"
  },
  "language_info": {
   "codemirror_mode": {
    "name": "ipython",
    "version": 3
   },
   "file_extension": ".py",
   "mimetype": "text/x-python",
   "name": "python",
   "nbconvert_exporter": "python",
   "pygments_lexer": "ipython3",
   "version": "3.13.3"
  }
 },
 "nbformat": 4,
 "nbformat_minor": 0
}
