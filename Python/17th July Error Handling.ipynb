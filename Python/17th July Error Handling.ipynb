{
 "cells": [
  {
   "cell_type": "markdown",
   "metadata": {},
   "source": [
    "Error handling in Python\n",
    "try, except, else, finally - These are the four words which manages error handling in Python"
   ]
  },
  {
   "cell_type": "code",
   "execution_count": 3,
   "metadata": {},
   "outputs": [
    {
     "name": "stdout",
     "output_type": "stream",
     "text": [
      "Error: Division by zero is not allowed.\n"
     ]
    }
   ],
   "source": [
    "x = int(input(\"Enter an integer:\"))\n",
    "try:\n",
    "    y = 10 / x\n",
    "    print(f\"10 divided by {x} is {y}\")\n",
    "except ZeroDivisionError:\n",
    "    print(\"Error: Division by zero is not allowed.\")"
   ]
  },
  {
   "cell_type": "markdown",
   "metadata": {},
   "source": [
    "**Key Concepts**\n",
    "\n",
    "- **Exceptions:** Runtime errors that disrupt the normal flow of your program.\n",
    "- **try...except:** The primary way to catch and manage exceptions.\n",
    "- **raise:** Allows you to intentionally trigger exceptions, often for signaling invalid conditions.\n",
    "- **ExceptionType** can be a specific type of exception (like ValueError, TypeError, ZeroDivisionError), or you can use a generic except to catch all exceptions.\n",
    "- It's a good practice to catch specific exceptions to handle errors more precisely and avoid masking other issues.\n",
    "- **ValueError** When a user enters a non-numeric value, you can enter this code.\n",
    "- **Avoid using bare except:** Catching all exceptions (except:) can mask important errors, making debugging more difficult.\n",
    "- Use **finally** for cleanup: The finally block is executed regardless of whether an exception occurred, ensuring that resources like files or network connections are closed properly.\n",
    "- Use **else** for non-error code: The else block executes only if no exception is raised within the try block, which helps separate the normal code flow from error handling.\n",
    "- **Define custom exceptions**: For specific error conditions in your application, create custom exception classes to provide more expressive error handling. "
   ]
  },
  {
   "cell_type": "code",
   "execution_count": 4,
   "metadata": {},
   "outputs": [
    {
     "name": "stdout",
     "output_type": "stream",
     "text": [
      "Error: Index out of range.\n"
     ]
    }
   ],
   "source": [
    "try:\n",
    "    my_list = [1, 2, 3]\n",
    "    print(my_list[5])\n",
    "except ZeroDivisionError:\n",
    "    print(\"Division by zero is not allowed.\")\n",
    "except IndexError:\n",
    "    print(\"Error: Index out of range.\")"
   ]
  }
 ],
 "metadata": {
  "kernelspec": {
   "display_name": "Python 3",
   "language": "python",
   "name": "python3"
  },
  "language_info": {
   "codemirror_mode": {
    "name": "ipython",
    "version": 3
   },
   "file_extension": ".py",
   "mimetype": "text/x-python",
   "name": "python",
   "nbconvert_exporter": "python",
   "pygments_lexer": "ipython3",
   "version": "3.13.5"
  }
 },
 "nbformat": 4,
 "nbformat_minor": 2
}
