{
 "cells": [
  {
   "cell_type": "markdown",
   "id": "0f812c8b",
   "metadata": {},
   "source": [
    "**Boto3** is the official Amazon Web Services (AWS) Software Development Kit (SDK) for Python. It enables Python developers to write software that interacts with a wide range of AWS services, like Amazon S3 (for storage), Amazon EC2 (for compute), Amazon DynamoDB (for databases). Boto3 was created and maintained completely by AWS. It was created to interact with Python.\n",
    "\n",
    "**Key functionalities and features**\n",
    "- **Programmatic access to AWS services**: Boto3 allows you to create, configure, and manage AWS services directly from your Python applications, scripts, or libraries.\n",
    "- **Simplified API Interaction:** Boto3 abstracts away the complexities of AWS APIs, including handling credentials, retries, and data marshaling and serialization.\n",
    "\n",
    "**Two levels of abstraction:**\n",
    "- **Clients:** Provide low-level access to AWS services, allowing you to directly interact with service operations and manage raw API responses.\n",
    "- **Resources:** Offer a higher-level, object-oriented interface, simplifying interactions with AWS resources by representing them as standard Python classes and objects.\n",
    "\n",
    "**Built on Botocore:** Boto3 is built upon the Botocore library, which provides the foundational low-level functionality shared between the Python SDK and the AWS CLI.\n",
    "\n",
    "\n"
   ]
  },
  {
   "cell_type": "markdown",
   "id": "eb2d2d20",
   "metadata": {},
   "source": [
    "- The next step would to install AWS CLI\n",
    "- Login to AWS Console and create a user, make sure to create the access key for the user. Copy the access key, secret access key and make sure to note the default region for the user.\n",
    "- Run awS configure and all of these details.\n",
    "- All these configurations are in a hidden file called .aws in the home directory.~ and you will find the .aws file there.\n"
   ]
  }
 ],
 "metadata": {
  "language_info": {
   "name": "python"
  }
 },
 "nbformat": 4,
 "nbformat_minor": 5
}
