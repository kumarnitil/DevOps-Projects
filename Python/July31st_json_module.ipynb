{
 "cells": [
  {
   "cell_type": "code",
   "execution_count": 1,
   "id": "61624b16",
   "metadata": {},
   "outputs": [],
   "source": [
    "import yaml\n",
    "import json\n",
    "data = {\"name\": \"Bob\", \"city\": \"London\"}\n",
    "with open(\"data.json\", \"w\") as file:\n",
    "    json.dump(data, file, indent=2)\n"
   ]
  },
  {
   "cell_type": "code",
   "execution_count": 4,
   "id": "08931467",
   "metadata": {},
   "outputs": [
    {
     "name": "stdout",
     "output_type": "stream",
     "text": [
      "{'name': 'Charlie', 'age': 25}\n"
     ]
    }
   ],
   "source": [
    "\n",
    "json_string = '{\"name\": \"Charlie\", \"age\": 25}'\n",
    "data1 = json.loads(json_string)\n",
    "print(data1)\n"
   ]
  }
 ],
 "metadata": {
  "kernelspec": {
   "display_name": "Python 3",
   "language": "python",
   "name": "python3"
  },
  "language_info": {
   "codemirror_mode": {
    "name": "ipython",
    "version": 3
   },
   "file_extension": ".py",
   "mimetype": "text/x-python",
   "name": "python",
   "nbconvert_exporter": "python",
   "pygments_lexer": "ipython3",
   "version": "3.12.3"
  }
 },
 "nbformat": 4,
 "nbformat_minor": 5
}
