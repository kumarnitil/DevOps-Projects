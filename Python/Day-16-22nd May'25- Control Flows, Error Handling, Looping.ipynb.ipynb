{
 "cells": [
  {
   "cell_type": "markdown",
   "id": "792eb2e7",
   "metadata": {},
   "source": [
    "#Frozen Set (frozenset)"
   ]
  },
  {
   "cell_type": "code",
   "execution_count": 4,
   "id": "926e4daf",
   "metadata": {},
   "outputs": [
    {
     "name": "stdout",
     "output_type": "stream",
     "text": [
      "frozenset({1, 2, 3})\n"
     ]
    }
   ],
   "source": [
    "fs = frozenset([1, 2, 3, 2])\n",
    "print(fs)  # frozenset({1, 2, 3})\n",
    "# frozenset is immutable\n",
    "#fs.add(4)  # AttributeError: 'frozenset' object has no attribute 'add'"
   ]
  },
  {
   "cell_type": "markdown",
   "id": "48a6fd02",
   "metadata": {},
   "source": [
    "#Boolean Type (bool)"
   ]
  },
  {
   "cell_type": "code",
   "execution_count": 7,
   "id": "df13db1a",
   "metadata": {},
   "outputs": [
    {
     "name": "stdout",
     "output_type": "stream",
     "text": [
      "It's valid!\n",
      "False\n",
      "True\n",
      "False\n",
      "False\n",
      "True\n",
      "False\n",
      "True\n",
      "False\n",
      "True\n"
     ]
    }
   ],
   "source": [
    "is_valid = True\n",
    "is_complete = False\n",
    "\n",
    "# Booleans in conditions\n",
    "if is_valid: # This evaluates to True, so the block is executed\n",
    "    print(\"It's valid!\")\n",
    "\n",
    "# Boolean operations\n",
    "print(is_valid and is_complete) # True and False -> False\n",
    "print(is_valid or is_complete)  # True or False  -> True\n",
    "print(not is_valid)             # not True       -> False\n",
    "\n",
    "# Common boolean results (Truthiness/Falsiness)\n",
    "print(bool(0))    # Numeric zero is False\n",
    "print(bool(42))   # Non-zero number is True\n",
    "print(bool(\"\"))   # Empty string is False\n",
    "print(bool(\"Hi\")) # Non-empty string is True\n",
    "print(bool([]))   # Empty list is False\n",
    "print(bool([1, 2])) # Non-empty list is True"
   ]
  },
  {
   "cell_type": "markdown",
   "id": "ad41e537",
   "metadata": {},
   "source": [
    "#Control Flow"
   ]
  },
  {
   "cell_type": "code",
   "execution_count": 13,
   "id": "cf7d6334",
   "metadata": {},
   "outputs": [
    {
     "name": "stdout",
     "output_type": "stream",
     "text": [
      "You are an adult.\n",
      "0\n",
      "1\n",
      "2\n",
      "3\n",
      "4\n",
      "Count is 0\n",
      "Count is 1\n",
      "Count is 2\n"
     ]
    }
   ],
   "source": [
    "# Conditional statement\n",
    "age = 20\n",
    "if age >= 18:\n",
    "    print(\"You are an adult.\")\n",
    "else:\n",
    "    print(\"You are a minor.\")\n",
    "\n",
    "# For loop (from your example)\n",
    "for i in range(5): # Iterates 5 times, i takes values 0, 1, 2, 3, 4\n",
    "    print(i)\n",
    "# Output:\n",
    "# 0\n",
    "# 1\n",
    "# 2\n",
    "# 3\n",
    "# 4\n",
    "\n",
    "# While loop\n",
    "count = 0\n",
    "while count < 3: # Loop until count is less than 3\n",
    "    # This block will execute as long as the condition is True\n",
    "    print(f\"Count is {count}\")\n",
    "    count += 1 # Important: increment count to eventually make condition False\n",
    "# Output:\n",
    "# Count is 0\n",
    "# Count is 1\n",
    "# Count is 2"
   ]
  },
  {
   "cell_type": "markdown",
   "id": "2d38a6d2",
   "metadata": {},
   "source": [
    "#Functions"
   ]
  },
  {
   "cell_type": "code",
   "execution_count": 17,
   "id": "e9d22000",
   "metadata": {},
   "outputs": [
    {
     "name": "stdout",
     "output_type": "stream",
     "text": [
      "Hello Bob\n",
      "None\n"
     ]
    }
   ],
   "source": [
    "def greet(name): # 'name' is a parameter\n",
    "    return \"Hello \" + name # Returns a string\n",
    "\n",
    "print(greet(\"Bob\")) # Calls the function, passing \"Bob\" as the argument\n",
    "# Output: Hello Bob\n",
    "\n",
    "# Example of a function without an explicit return (implicitly returns None)\n",
    "def do_nothing():\n",
    "    pass\n",
    "\n",
    "result = do_nothing()\n",
    "print(result) # Output: None"
   ]
  },
  {
   "cell_type": "markdown",
   "id": "6c95775f",
   "metadata": {},
   "source": [
    "#Modules and Libraries"
   ]
  },
  {
   "cell_type": "code",
   "execution_count": 24,
   "id": "f9dcf6ab",
   "metadata": {},
   "outputs": [
    {
     "name": "stdout",
     "output_type": "stream",
     "text": [
      "4.0\n",
      "Today's date: 2025-05-22\n",
      "Today is: May 22, 2025\n"
     ]
    }
   ],
   "source": [
    "import math # Imports the 'math' module\n",
    "\n",
    "print(math.sqrt(16)) # Accesses the 'sqrt' (square root) function from the 'math' module\n",
    "# Output: 4.0\n",
    "\n",
    "# Another example:\n",
    "from datetime import date # Imports only the 'date' class from the 'datetime' module\n",
    "today = date.today()\n",
    "print(f\"Today's date: {today}\")\n",
    "print(f\"Today is: {today.strftime('%B %d, %Y')}\")  # Output: \"Today is: May 22, 2025\""
   ]
  },
  {
   "cell_type": "markdown",
   "id": "66ce74aa",
   "metadata": {},
   "source": [
    "1. Conditional Statements\n",
    "(if / elif / else)"
   ]
  },
  {
   "cell_type": "code",
   "execution_count": 26,
   "id": "82dd22de",
   "metadata": {},
   "outputs": [
    {
     "name": "stdout",
     "output_type": "stream",
     "text": [
      "Adult\n"
     ]
    }
   ],
   "source": [
    "age = 23\n",
    "\n",
    "if age < 13:\n",
    "    print(\"Child\")\n",
    "elif age < 20:  # Only checked if first 'if' is False\n",
    "    print(\"Teenager\")\n",
    "else:  # Runs if all above are False\n",
    "    print(\"Adult\")"
   ]
  },
  {
   "cell_type": "markdown",
   "id": "0338bcb1",
   "metadata": {},
   "source": [
    "(match-case)"
   ]
  },
  {
   "cell_type": "code",
   "execution_count": 29,
   "id": "a1636d15",
   "metadata": {},
   "outputs": [
    {
     "name": "stdout",
     "output_type": "stream",
     "text": [
      "Please describe your technical problem.\n"
     ]
    }
   ],
   "source": [
    "query_type = \"technical_support\"\n",
    "\n",
    "match query_type:\n",
    "    case \"account_issue\":\n",
    "        print(\"Connecting you to Account Support.\")\n",
    "    case \"technical_support\":\n",
    "        print(\"Please describe your technical problem.\")\n",
    "    case \"refund_request\" | \"cancellation\": # Can match multiple patterns\n",
    "        print(\"Processing your refund/cancellation request.\") # This is the path taken\n",
    "    case _:\n",
    "        print(\"I'm sorry, I don't understand that query.\")"
   ]
  },
  {
   "cell_type": "markdown",
   "id": "407be29c",
   "metadata": {},
   "source": [
    "Nested if: The Multi-Layered Security Check"
   ]
  },
  {
   "cell_type": "code",
   "execution_count": 34,
   "id": "77aa26da",
   "metadata": {},
   "outputs": [
    {
     "name": "stdout",
     "output_type": "stream",
     "text": [
      "Welcome back!\n",
      "Accessing premium content...\n"
     ]
    }
   ],
   "source": [
    "is_logged_in = True\n",
    "has_premium_subscription = True\n",
    "\n",
    "if is_logged_in: # Outer condition: Are you logged in?\n",
    "    print(\"Welcome back!\")\n",
    "    if has_premium_subscription: # Inner condition: Do you have premium?\n",
    "        print(\"Accessing premium content...\")\n",
    "    else:\n",
    "        print(\"Upgrade to premium for more features!\") # This path taken if logged in but no premium\n",
    "else:\n",
    "    print(\"Please log in to continue.\")"
   ]
  },
  {
   "cell_type": "markdown",
   "id": "568455b2",
   "metadata": {},
   "source": [
    "Looping Statements: Repeating Tasks"
   ]
  },
  {
   "cell_type": "code",
   "execution_count": 35,
   "id": "e9494cfc",
   "metadata": {},
   "outputs": [
    {
     "name": "stdout",
     "output_type": "stream",
     "text": [
      "Eating a dark chocolate.\n",
      "Eating a milk chocolate.\n",
      "Eating a white chocolate.\n",
      "Eating a caramel chocolate.\n"
     ]
    }
   ],
   "source": [
    "chocolates = [\"dark\", \"milk\", \"white\", \"caramel\"]\n",
    "\n",
    "for chocolate in chocolates: # For each chocolate in the box...\n",
    "  print(f\"Eating a {chocolate} chocolate.\") # ...eat it!"
   ]
  },
  {
   "cell_type": "markdown",
   "id": "517bbf8a",
   "metadata": {},
   "source": [
    "break and continue"
   ]
  },
  {
   "cell_type": "code",
   "execution_count": 42,
   "id": "6f64b2a8",
   "metadata": {},
   "outputs": [
    {
     "name": "stdout",
     "output_type": "stream",
     "text": [
      "Checking socks...\n",
      "Checking shirt...\n",
      "Checking pants...\n",
      "Found the keys! Stopping search.\n"
     ]
    }
   ],
   "source": [
    "items_to_check = [\"socks\", \"shirt\", \"pants\", \"keys\", \"wallet\"]\n",
    "for item in items_to_check:\n",
    "    if item == \"keys\":\n",
    "        print(\"Found the keys! Stopping search.\")\n",
    "        # The 'break' statement stops the loop entirely\n",
    "        break # Stops the loop entirely\n",
    "    print(f\"Checking {item}...\")"
   ]
  },
  {
   "cell_type": "markdown",
   "id": "883759e2",
   "metadata": {},
   "source": [
    "continue Statement"
   ]
  },
  {
   "cell_type": "code",
   "execution_count": 43,
   "id": "3737ed51",
   "metadata": {},
   "outputs": [
    {
     "name": "stdout",
     "output_type": "stream",
     "text": [
      "Reading Chapter 1...\n",
      "Skipping advertisement...\n",
      "Reading Chapter 2...\n",
      "Skipping advertisement...\n",
      "Reading Chapter 3...\n"
     ]
    }
   ],
   "source": [
    "pages = [\"Chapter 1\", \"Ad\", \"Chapter 2\", \"Ad\", \"Chapter 3\"]\n",
    "for page in pages:\n",
    "    if page == \"Ad\":\n",
    "        print(\"Skipping advertisement...\")\n",
    "        continue # Skips the rest of the current iteration, goes to next page\n",
    "    print(f\"Reading {page}...\")"
   ]
  },
  {
   "cell_type": "markdown",
   "id": "84f12137",
   "metadata": {},
   "source": [
    "Nested Loops:"
   ]
  },
  {
   "cell_type": "code",
   "execution_count": 47,
   "id": "5f38bb22",
   "metadata": {},
   "outputs": [
    {
     "name": "stdout",
     "output_type": "stream",
     "text": [
      "Placing book at Row 1, Column 1\n",
      "Placing book at Row 1, Column 2\n",
      "Placing book at Row 1, Column 3\n",
      "Placing book at Row 1, Column 4\n",
      "Placing book at Row 1, Column 5\n",
      "--- Finished filling this row ---\n",
      "Placing book at Row 2, Column 1\n",
      "Placing book at Row 2, Column 2\n",
      "Placing book at Row 2, Column 3\n",
      "Placing book at Row 2, Column 4\n",
      "Placing book at Row 2, Column 5\n",
      "--- Finished filling this row ---\n",
      "Placing book at Row 3, Column 1\n",
      "Placing book at Row 3, Column 2\n",
      "Placing book at Row 3, Column 3\n",
      "Placing book at Row 3, Column 4\n",
      "Placing book at Row 3, Column 5\n",
      "--- Finished filling this row ---\n"
     ]
    }
   ],
   "source": [
    "# Imagine a bookshelf (outer loop) with multiple shelves (inner loop)\n",
    "for row in range(1, 4): # For each row (shelf)\n",
    "    for column in range(1, 6): # For each column (spot on the shelf)\n",
    "        print(f\"Placing book at Row {row}, Column {column}\")\n",
    "    print(\"--- Finished filling this row ---\") # After filling all spots in a row"
   ]
  },
  {
   "cell_type": "markdown",
   "id": "e3f6e25f",
   "metadata": {},
   "source": [
    "for-else Loops:"
   ]
  },
  {
   "cell_type": "code",
   "execution_count": 61,
   "id": "53634d87",
   "metadata": {},
   "outputs": [
    {
     "name": "stdout",
     "output_type": "stream",
     "text": [
      "Playing Level 1...\n",
      "Playing Level 2...\n",
      "Playing Level 3...\n",
      "Playing Level 4...\n",
      "Playing Level 5...\n",
      "Congratulations! You've completed all levels of the game!\n",
      "Game Over.\n"
     ]
    }
   ],
   "source": [
    "levels_completed = 0\n",
    "total_levels = 5\n",
    "\n",
    "for level in range(1, total_levels + 1):\n",
    "    print(f\"Playing Level {level}...\")\n",
    "    # Imagine some game logic here\n",
    "    levels_completed += 1\n",
    "\n",
    "    player_quits = False\n",
    "    if player_quits:\n",
    "        break # If break is hit, the else block won't run\n",
    "else:\n",
    "    print(\"Congratulations! You've completed all levels of the game!\") # This runs if no break\n",
    "print(\"Game Over.\")"
   ]
  },
  {
   "cell_type": "code",
   "execution_count": 62,
   "id": "3106d749",
   "metadata": {},
   "outputs": [
    {
     "name": "stdout",
     "output_type": "stream",
     "text": [
      "Playing Level 1...\n",
      "Playing Level 2...\n",
      "Oh no! You made a critical mistake!\n",
      "You failed after completing 2 levels.\n",
      "Game Over.\n"
     ]
    }
   ],
   "source": [
    "levels_completed = 0\n",
    "total_levels = 5\n",
    "success = False  # Track whether player succeeded\n",
    "\n",
    "for level in range(1, total_levels + 1):\n",
    "    print(f\"Playing Level {level}...\")\n",
    "    levels_completed += 1\n",
    "    \n",
    "    # Player fails after completing level 2\n",
    "    if level == 2:\n",
    "        print(\"Oh no! You made a critical mistake!\")\n",
    "        success = False\n",
    "        break  # Exit the loop early\n",
    "\n",
    "else:  # This only runs if loop completes all levels without break\n",
    "    success = True\n",
    "    print(\"Congratulations! You've completed all levels of the game!\")\n",
    "\n",
    "if not success:\n",
    "    print(f\"You failed after completing {levels_completed} levels.\")\n",
    "print(\"Game Over.\")"
   ]
  },
  {
   "cell_type": "markdown",
   "id": "cde20319",
   "metadata": {},
   "source": [
    "Error Handling and Exceptions"
   ]
  },
  {
   "cell_type": "code",
   "execution_count": null,
   "id": "4477e52d",
   "metadata": {},
   "outputs": [
    {
     "name": "stdout",
     "output_type": "stream",
     "text": [
      "Oops! You tried to divide by zero. That's like trying to share a cake with nobody!\n"
     ]
    }
   ],
   "source": [
    "#Trying to bake a cake, but you run out of flour (ZeroDivisionError)\n",
    "try:\n",
    "    # Plan A: Attempt the main operation\n",
    "    result = 10 / 0 # This will cause a ZeroDivisionError\n",
    "except ZeroDivisionError:\n",
    "    # Plan B: If Plan A fails due to a specific error, execute this recovery\n",
    "    print(\"Oops! You tried to divide by zero. That's like trying to share a cake with nobody!\")"
   ]
  },
  {
   "cell_type": "code",
   "execution_count": 84,
   "id": "d4ecea14",
   "metadata": {},
   "outputs": [
    {
     "name": "stdout",
     "output_type": "stream",
     "text": [
      "You tried to grab an ingredient that wasn't there!\n"
     ]
    }
   ],
   "source": [
    "#Baking, but different things could go wrong:\n",
    "# 1. Oven breaks (ZeroDivisionError)\n",
    "# 2. You try to use an ingredient that's not on your list (IndexError)\n",
    "try:\n",
    "    my_ingredients = [\"flour\", \"sugar\", \"eggs\"]\n",
    "    print(f\"The ingredient is {my_ingredients[10]}.\") # This will cause an IndexError (trying to get a 10th ingredient when there are only 3)\n",
    "    result = 10 / 0 # This line won't be reached if IndexError happens first\n",
    "\n",
    "except IndexError:\n",
    "    print(\"You tried to grab an ingredient that wasn't there!\") # This is the plan executed\n",
    "except ZeroDivisionError:\n",
    "    print(\"The oven broke!\")"
   ]
  }
 ],
 "metadata": {
  "kernelspec": {
   "display_name": "Python 3",
   "language": "python",
   "name": "python3"
  },
  "language_info": {
   "codemirror_mode": {
    "name": "ipython",
    "version": 3
   },
   "file_extension": ".py",
   "mimetype": "text/x-python",
   "name": "python",
   "nbconvert_exporter": "python",
   "pygments_lexer": "ipython3",
   "version": "3.13.3"
  }
 },
 "nbformat": 4,
 "nbformat_minor": 5
}
