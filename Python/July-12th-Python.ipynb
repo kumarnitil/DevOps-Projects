{
 "cells": [
  {
   "cell_type": "code",
   "execution_count": 1,
   "metadata": {},
   "outputs": [
    {
     "name": "stdout",
     "output_type": "stream",
     "text": [
      "<class 'int'>\n",
      "This is a decimal\n",
      "<class 'str'>\n",
      "<class 'float'>\n",
      "3.14\n",
      "<class 'bool'>\n",
      "<class 'int'>\n",
      "1000000\n"
     ]
    }
   ],
   "source": [
    "x = 5\n",
    "y = \"This is a decimal\"\n",
    "z = 3.14\n",
    "print(type(x))\n",
    "print(y)\n",
    "print(type(y))\n",
    "print(type(z))\n",
    "print(z)\n",
    "f=True\n",
    "print(type(f))\n",
    "d=1_000_000\n",
    "print(type(d))\n",
    "print(d)"
   ]
  },
  {
   "cell_type": "markdown",
   "metadata": {},
   "source": [
    "type inside print will tell you what kind of variable it is.\n",
    "Bigger numbers can ve written with the help of underscores\n",
    "Keywords in Python are case sensitive\n",
    "Texts can be defined in both double and single code.\n"
   ]
  },
  {
   "cell_type": "code",
   "execution_count": 8,
   "metadata": {},
   "outputs": [
    {
     "name": "stdout",
     "output_type": "stream",
     "text": [
      "A\n",
      "13\n",
      "Alice Smith\n",
      "True\n",
      "HELLO, WORLD!\n",
      "This is a\n",
      "multiline string\n"
     ]
    }
   ],
   "source": [
    "\n",
    "name = \"Alice\"\n",
    "message = 'Hello, World!'\n",
    "multiline = \"\"\"This is a\n",
    "multiline string\"\"\"\n",
    "\n",
    "# String operations\n",
    "print(name[0])# 'A' (indexing)\n",
    "print(len(message))# 13 (length)\n",
    "print(name + \" Smith\")# 'Alice Smith' (concatenation)\n",
    "print(\"ice\" in name)# True (membership test)\n",
    "print(message.upper())# 'HELLO, WORLD!' (method)\n",
    "print(multiline)\n"
   ]
  },
  {
   "cell_type": "markdown",
   "metadata": {},
   "source": [
    "Use in keyword to check if the given characters are present in a given string or not.\n",
    "List can have anything in them, which are characters, boolean, integer etc"
   ]
  },
  {
   "cell_type": "markdown",
   "metadata": {},
   "source": [
    "List is mutable here and tuple is not in Python\n",
    "''' ''' use triple quotes for multiple line comments\n",
    "use ''' to also add multiline value\n",
    "pip is the package manager for python\n"
   ]
  },
  {
   "cell_type": "markdown",
   "metadata": {},
   "source": []
  },
  {
   "cell_type": "code",
   "execution_count": 6,
   "metadata": {},
   "outputs": [
    {
     "name": "stdout",
     "output_type": "stream",
     "text": [
      "banana\n",
      "['pear', 'banana', 'cherry', 'orange']\n",
      "4\n",
      "['banana', 'cherry']\n"
     ]
    }
   ],
   "source": [
    "fruits = [\"apple\", \"banana\", \"cherry\"]\n",
    "mixed = [1, \"hello\", 3.14, True]\n",
    "\n",
    "# List operations\n",
    "fruits.append(\"orange\")# Add item\n",
    "print(fruits[1])# 'banana' (indexing)\n",
    "fruits[0] = \"pear\"# Modify item\n",
    "print(fruits)# ['pear', 'banana', 'cherry', 'orange']\n",
    "print(len(mixed))# 4 (length)\n",
    "print(fruits[1:3])# ['banana', 'cherry'] (slicing)\n"
   ]
  },
  {
   "cell_type": "code",
   "execution_count": 7,
   "metadata": {},
   "outputs": [
    {
     "name": "stdout",
     "output_type": "stream",
     "text": [
      "15\n"
     ]
    }
   ],
   "source": [
    "x =    5\n",
    "y = 10\n",
    "print(x + y)  # 15 (addition)"
   ]
  },
  {
   "cell_type": "markdown",
   "metadata": {},
   "source": [
    "There are two ways in which you can concatenate strings as shown below.\n",
    ".upper will not change the original string"
   ]
  },
  {
   "cell_type": "code",
   "execution_count": 19,
   "metadata": {},
   "outputs": [
    {
     "name": "stdout",
     "output_type": "stream",
     "text": [
      "John Wick\n",
      "JOHN\n",
      "John\n",
      "wick\n",
      "True\n",
      "9\n",
      "5\n"
     ]
    }
   ],
   "source": [
    "# String concatenation\n",
    "first_name = \"John\"\n",
    "last_name = \"Wick\"\n",
    "full = f\"{first_name} {last_name}\"  # f-string formatting\n",
    "# full = first_name + \" \" + last_name\n",
    "print(full)  # John Wick (concatenation)\n",
    "caps = first_name.upper()  # Convert to uppercase\n",
    "print(caps)  # JOHN (uppercase)\n",
    "print(first_name)  # John (original string remains unchanged)\n",
    "print(last_name.lower())  # wick (lowercase)\n",
    "print(\"Wick\" in full)  # True (membership test) Please not this will be case sensitive.\n",
    "print(len(full))  # 9 (length of the string)\n",
    "print(full.find(\"Wick\"))  # 5 (find position of substring)\n",
    "# Boolean operations"
   ]
  },
  {
   "cell_type": "markdown",
   "metadata": {},
   "source": [
    "Creating and working with the list\n",
    "[] is the the compiler recognizes it is a list\n",
    ".pop will pop out the last element out of there.\n",
    "Indexing can be used only for modifying the elements present and not to append element to list.\n"
   ]
  },
  {
   "cell_type": "code",
   "execution_count": 23,
   "metadata": {},
   "outputs": [
    {
     "name": "stdout",
     "output_type": "stream",
     "text": [
      "<class 'list'>\n",
      "['apple', 'banana', 'cherry']\n",
      "None\n",
      "['apple', 'banana', 'cherry', 'orange']\n",
      "orange\n",
      "['apple', 'banana', 'cherry']\n",
      "banana\n"
     ]
    }
   ],
   "source": [
    "fruits = [\"apple\", \"banana\", \"cherry\"]\n",
    "print(type(fruits))  # <class 'list'>\n",
    "print(fruits)\n",
    "print(fruits.append(\"orange\"))  # None (append returns None)\n",
    "print(fruits)  # ['apple', 'banana', 'cherry', 'orange']\n",
    "print(fruits.pop())  # 'orange' (remove and return last item)\n",
    "print(fruits)  # ['apple', 'banana', 'cherry']\n",
    "print(fruits[1])  # 'banana' (indexing)\n",
    "fruits[1] = \"pear\"  # Modify item\n",
    "print(fruits)  # ['apple', 'pear', 'cherry']"
   ]
  },
  {
   "cell_type": "markdown",
   "metadata": {},
   "source": [
    "Tuples"
   ]
  },
  {
   "cell_type": "code",
   "execution_count": 32,
   "metadata": {},
   "outputs": [
    {
     "name": "stdout",
     "output_type": "stream",
     "text": [
      "<class 'tuple'>\n",
      "2\n",
      "<class 'tuple'>\n",
      "1\n"
     ]
    }
   ],
   "source": [
    "coordinates = (10.0, 20.0, 10.0)  # Tuple\n",
    "print(type(coordinates))  # <class 'tuple'> \n",
    "print(coordinates.count(10.0))  # (10.0, 20.0) - Count will count the number of times a value appears in the tuple.\n",
    "mixed_tuple = (1, \"hello\", 3.14, True)  # Mixed tuple\n",
    "print(type(mixed_tuple))  # <class 'tuple'>\n",
    "print(mixed_tuple.index(\"hello\"))  # 'hello' (indexing) Index will return the first index of the value in the tuple."
   ]
  },
  {
   "cell_type": "markdown",
   "metadata": {},
   "source": [
    "In Dictionaries - Keys are immutable, you can use the key to modify the values but cannot change the key, you can add a key.\n",
    "Type conversion\n",
    "When you use input function by default any value is taken as a string so you need to typecast in the respective variable which you are going to need.\n"
   ]
  },
  {
   "cell_type": "code",
   "execution_count": 42,
   "metadata": {},
   "outputs": [
    {
     "name": "stdout",
     "output_type": "stream",
     "text": [
      "{'name': 'Alice', 'age': 30, 'city': 'New York'}\n",
      "New York\n",
      "<class 'dict'>\n",
      "dict_items([('name', 'Alice'), ('age', 30), ('city', 'New York')])\n"
     ]
    }
   ],
   "source": [
    "define_dictionary = {\n",
    "    \"name\": \"Alice\",\n",
    "    \"age\": 30,\n",
    "    \"city\": \"New York\"\n",
    "}\n",
    "print(define_dictionary)  # Print the dictionary\n",
    "print(define_dictionary[\"city\"]) \n",
    "print(type(define_dictionary))\n",
    "print(define_dictionary.items()) # dict.items() returns a view object that displays a list of a dictionary's key-value tuple pairs."
   ]
  },
  {
   "cell_type": "markdown",
   "metadata": {},
   "source": [
    "Looping through dictionaries.\n",
    "We can use dictionaries to loop over dictionaries."
   ]
  },
  {
   "cell_type": "code",
   "execution_count": 47,
   "metadata": {},
   "outputs": [
    {
     "name": "stdout",
     "output_type": "stream",
     "text": [
      "name: Bob\n",
      "age: 25\n",
      "city: Los Angeles\n",
      "name\n",
      "age\n",
      "city\n",
      "Bob\n",
      "25\n",
      "Los Angeles\n"
     ]
    }
   ],
   "source": [
    "define_dictionary1 = {\n",
    "    \"name\": \"Bob\",\n",
    "    \"age\": 25,\n",
    "    \"city\": \"Los Angeles\"\n",
    "}\n",
    "for key, value in define_dictionary1.items():\n",
    "    print(f\"{key}: {value}\") # Print each key-value pair and you do not need add a new line\n",
    "    # print()\n",
    "    \n",
    "for key in define_dictionary1.keys():\n",
    "    print(key) # Print each key in the dictionary\n",
    "    \n",
    "for value in define_dictionary1.values():\n",
    "    print(value) # Print each value in the dictionary"
   ]
  },
  {
   "cell_type": "markdown",
   "metadata": {},
   "source": [
    "Set are defined with curly braces or the set() constructor.\n",
    "The difference are these single values defined inside \n",
    "Sets are unordered collection of unique elements\n",
    "Sets are mutable\n",
    "We can check unions and intersections of the two sets"
   ]
  },
  {
   "cell_type": "code",
   "execution_count": 53,
   "metadata": {},
   "outputs": [
    {
     "name": "stdout",
     "output_type": "stream",
     "text": [
      "{1, 2, 3, 4, 5}\n",
      "{'cherry', 'banana', 'apple'}\n",
      "{'Mango', 'cherry', 'banana', 'apple'}\n",
      "{1, 2, 3, 4, 5, 'Mango', 'apple', 'cherry', 'banana'}\n",
      "{2, 3, 4}\n",
      "{'Mango'}\n"
     ]
    }
   ],
   "source": [
    "define_set = {1, 2, 3, 4, 5, 1, 2}  # Set (duplicates are removed) Duplicates elements are automatically removed.\n",
    "print(define_set)  # Print the set\n",
    "fruits_set = {\"apple\", \"banana\", \"cherry\"}\n",
    "print(fruits_set)  # Print the set of fruits\n",
    "fruits_set.add(\"Mango\") # added Mango to the set\n",
    "print(fruits_set)  # Print the set after adding an item\n",
    "union_set = define_set.union(fruits_set) # union is the keyworkd to combine two sets.\n",
    "print(union_set)\n",
    "test_set = {\"Mango\", 2, 3, 4} \n",
    "print(define_set.intersection(test_set))\n",
    "print(fruits_set.intersection(test_set))"
   ]
  }
 ],
 "metadata": {
  "kernelspec": {
   "display_name": "Python 3",
   "language": "python",
   "name": "python3"
  },
  "language_info": {
   "codemirror_mode": {
    "name": "ipython",
    "version": 3
   },
   "file_extension": ".py",
   "mimetype": "text/x-python",
   "name": "python",
   "nbconvert_exporter": "python",
   "pygments_lexer": "ipython3",
   "version": "3.13.5"
  }
 },
 "nbformat": 4,
 "nbformat_minor": 2
}
