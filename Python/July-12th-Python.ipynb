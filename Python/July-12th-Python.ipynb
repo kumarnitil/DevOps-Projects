{
 "cells": [
  {
   "cell_type": "code",
   "execution_count": 1,
   "metadata": {},
   "outputs": [
    {
     "name": "stdout",
     "output_type": "stream",
     "text": [
      "<class 'int'>\n",
      "This is a decimal\n",
      "<class 'str'>\n",
      "<class 'float'>\n",
      "3.14\n",
      "<class 'bool'>\n",
      "<class 'int'>\n",
      "1000000\n"
     ]
    }
   ],
   "source": [
    "x = 5\n",
    "y = \"This is a decimal\"\n",
    "z = 3.14\n",
    "print(type(x))\n",
    "print(y)\n",
    "print(type(y))\n",
    "print(type(z))\n",
    "print(z)\n",
    "f=True\n",
    "print(type(f))\n",
    "d=1_000_000\n",
    "print(type(d))\n",
    "print(d)"
   ]
  },
  {
   "cell_type": "markdown",
   "metadata": {},
   "source": [
    "type inside print will tell you what kind of variable it is.\n",
    "Bigger numbers can ve written with the help of underscores"
   ]
  },
  {
   "cell_type": "code",
   "execution_count": 2,
   "metadata": {},
   "outputs": [
    {
     "name": "stdout",
     "output_type": "stream",
     "text": [
      "A\n",
      "13\n",
      "Alice Smith\n",
      "True\n",
      "HELLO, WORLD!\n"
     ]
    }
   ],
   "source": [
    "\n",
    "name = \"Alice\"\n",
    "message = 'Hello, World!'\n",
    "multiline = \"\"\"This is a\n",
    "multiline string\"\"\"\n",
    "\n",
    "# String operations\n",
    "print(name[0])# 'A' (indexing)\n",
    "print(len(message))# 13 (length)\n",
    "print(name + \" Smith\")# 'Alice Smith' (concatenation)\n",
    "print(\"ice\" in name)# True (membership test)\n",
    "print(message.upper())# 'HELLO, WORLD!' (method)\n"
   ]
  },
  {
   "cell_type": "markdown",
   "metadata": {},
   "source": [
    "Use in keyword to check if the given characters are present in a given string or not.\n",
    "List can have anything in them, which are characters, boolean, integer etc"
   ]
  },
  {
   "cell_type": "markdown",
   "metadata": {},
   "source": [
    "List is mutable here and tuple is not in Python"
   ]
  },
  {
   "cell_type": "markdown",
   "metadata": {},
   "source": []
  },
  {
   "cell_type": "code",
   "execution_count": 5,
   "metadata": {},
   "outputs": [
    {
     "name": "stdout",
     "output_type": "stream",
     "text": [
      "banana\n",
      "['pear', 'banana', 'cherry', 'orange']\n",
      "4\n",
      "['banana', 'cherry']\n"
     ]
    }
   ],
   "source": [
    "fruits = [\"apple\", \"banana\", \"cherry\"]\n",
    "mixed = [1, \"hello\", 3.14, True]\n",
    "\n",
    "# List operations\n",
    "fruits.append(\"orange\")# Add item\n",
    "print(fruits[1])# 'banana' (indexing)\n",
    "fruits[0] = \"pear\"# Modify item\n",
    "print(fruits)# ['pear', 'banana', 'cherry', 'orange']\n",
    "print(len(mixed))# 4 (length)\n",
    "print(fruits[1:3])# ['banana', 'cherry'] (slicing)\n"
   ]
  }
 ],
 "metadata": {
  "kernelspec": {
   "display_name": "Python 3",
   "language": "python",
   "name": "python3"
  },
  "language_info": {
   "codemirror_mode": {
    "name": "ipython",
    "version": 3
   },
   "file_extension": ".py",
   "mimetype": "text/x-python",
   "name": "python",
   "nbconvert_exporter": "python",
   "pygments_lexer": "ipython3",
   "version": "3.13.5"
  }
 },
 "nbformat": 4,
 "nbformat_minor": 2
}
