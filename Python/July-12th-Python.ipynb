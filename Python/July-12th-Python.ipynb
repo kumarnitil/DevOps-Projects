{
 "cells": [
  {
   "cell_type": "code",
   "execution_count": 1,
   "metadata": {},
   "outputs": [
    {
     "name": "stdout",
     "output_type": "stream",
     "text": [
      "<class 'int'>\n",
      "This is a decimal\n",
      "<class 'str'>\n",
      "<class 'float'>\n",
      "3.14\n",
      "<class 'bool'>\n",
      "<class 'int'>\n",
      "1000000\n"
     ]
    }
   ],
   "source": [
    "x = 5\n",
    "y = \"This is a decimal\"\n",
    "z = 3.14\n",
    "print(type(x))\n",
    "print(y)\n",
    "print(type(y))\n",
    "print(type(z))\n",
    "print(z)\n",
    "f=True\n",
    "print(type(f))\n",
    "d=1_000_000\n",
    "print(type(d))\n",
    "print(d)"
   ]
  },
  {
   "cell_type": "markdown",
   "metadata": {},
   "source": [
    "type inside print will tell you what kind of variable it is.\n",
    "Bigger numbers can ve written with the help of underscores\n",
    "Keywords in Python are case sensitive\n",
    "Texts can be defined in both double and single code.\n"
   ]
  },
  {
   "cell_type": "code",
   "execution_count": 8,
   "metadata": {},
   "outputs": [
    {
     "name": "stdout",
     "output_type": "stream",
     "text": [
      "A\n",
      "13\n",
      "Alice Smith\n",
      "True\n",
      "HELLO, WORLD!\n",
      "This is a\n",
      "multiline string\n"
     ]
    }
   ],
   "source": [
    "\n",
    "name = \"Alice\"\n",
    "message = 'Hello, World!'\n",
    "multiline = \"\"\"This is a\n",
    "multiline string\"\"\"\n",
    "\n",
    "# String operations\n",
    "print(name[0])# 'A' (indexing)\n",
    "print(len(message))# 13 (length)\n",
    "print(name + \" Smith\")# 'Alice Smith' (concatenation)\n",
    "print(\"ice\" in name)# True (membership test)\n",
    "print(message.upper())# 'HELLO, WORLD!' (method)\n",
    "print(multiline)\n"
   ]
  },
  {
   "cell_type": "markdown",
   "metadata": {},
   "source": [
    "Use in keyword to check if the given characters are present in a given string or not.\n",
    "List can have anything in them, which are characters, boolean, integer etc"
   ]
  },
  {
   "cell_type": "markdown",
   "metadata": {},
   "source": [
    "List is mutable here and tuple is not in Python\n",
    "''' ''' use triple quotes for multiple line comments\n",
    "use ''' to also add multiline value\n",
    "pip is the package manager for python\n"
   ]
  },
  {
   "cell_type": "markdown",
   "metadata": {},
   "source": []
  },
  {
   "cell_type": "code",
   "execution_count": 6,
   "metadata": {},
   "outputs": [
    {
     "name": "stdout",
     "output_type": "stream",
     "text": [
      "banana\n",
      "['pear', 'banana', 'cherry', 'orange']\n",
      "4\n",
      "['banana', 'cherry']\n"
     ]
    }
   ],
   "source": [
    "fruits = [\"apple\", \"banana\", \"cherry\"]\n",
    "mixed = [1, \"hello\", 3.14, True]\n",
    "\n",
    "# List operations\n",
    "fruits.append(\"orange\")# Add item\n",
    "print(fruits[1])# 'banana' (indexing)\n",
    "fruits[0] = \"pear\"# Modify item\n",
    "print(fruits)# ['pear', 'banana', 'cherry', 'orange']\n",
    "print(len(mixed))# 4 (length)\n",
    "print(fruits[1:3])# ['banana', 'cherry'] (slicing)\n"
   ]
  },
  {
   "cell_type": "code",
   "execution_count": 7,
   "metadata": {},
   "outputs": [
    {
     "name": "stdout",
     "output_type": "stream",
     "text": [
      "15\n"
     ]
    }
   ],
   "source": [
    "x =    5\n",
    "y = 10\n",
    "print(x + y)  # 15 (addition)"
   ]
  },
  {
   "cell_type": "markdown",
   "metadata": {},
   "source": [
    "There are two ways in which you can concatenate strings as shown below."
   ]
  },
  {
   "cell_type": "code",
   "execution_count": 11,
   "metadata": {},
   "outputs": [
    {
     "name": "stdout",
     "output_type": "stream",
     "text": [
      "John Wick\n"
     ]
    }
   ],
   "source": [
    "# String concatenation\n",
    "first_name = \"John\"\n",
    "last_name = \"Wick\"\n",
    "full = f\"{first_name} {last_name}\"  # f-string formatting\n",
    "# full = first_name + \" \" + last_name\n",
    "print(full)  # John Wick (concatenation)\n",
    "caps = first_name.upper()  # Convert to uppercase\n",
    "print(caps)  # JOHN (uppercase)"
   ]
  }
 ],
 "metadata": {
  "kernelspec": {
   "display_name": "Python 3",
   "language": "python",
   "name": "python3"
  },
  "language_info": {
   "codemirror_mode": {
    "name": "ipython",
    "version": 3
   },
   "file_extension": ".py",
   "mimetype": "text/x-python",
   "name": "python",
   "nbconvert_exporter": "python",
   "pygments_lexer": "ipython3",
   "version": "3.13.5"
  }
 },
 "nbformat": 4,
 "nbformat_minor": 2
}
