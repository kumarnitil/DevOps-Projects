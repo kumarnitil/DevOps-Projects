{
 "cells": [
  {
   "cell_type": "markdown",
   "id": "badca593",
   "metadata": {},
   "source": [
    "Python Strings"
   ]
  },
  {
   "cell_type": "code",
   "execution_count": null,
   "id": "96084b34",
   "metadata": {},
   "outputs": [],
   "source": [
    "#You can define strings using single quotes ('...'), \n",
    "#double quotes (\"...\"), or triple quotes ('''...''' or \"\"\"...\"\"\") for multi-line text."
   ]
  },
  {
   "cell_type": "code",
   "execution_count": null,
   "id": "cda51c16",
   "metadata": {},
   "outputs": [
    {
     "name": "stdout",
     "output_type": "stream",
     "text": [
      "H\n",
      "!\n",
      "18\n",
      "Error: 'str' object does not support item assignment\n"
     ]
    }
   ],
   "source": [
    "# Creating strings\n",
    "my_string = 'Hello, Pythonista!'\n",
    "another_string = \"You're awesome!\"\n",
    "multi_line_string = \"\"\"This string\n",
    "spans\n",
    "multiple lines.\"\"\"\n",
    "\n",
    "# Accessing characters (like items in a list)\n",
    "print(my_string[0])   # Output: H\n",
    "print(my_string[-1])  # Output: !\n",
    "\n",
    "# Getting length\n",
    "print(len(my_string)) # Output: 18\n",
    "\n",
    "# Immutability in action (this will throw an error!)\n",
    "try:\n",
    "    my_string[0] = 'h'\n",
    "except TypeError as e:\n",
    "    print(f\"Error: {e}\") # Output: Error: 'str' object does not support item assignment"
   ]
  },
  {
   "cell_type": "markdown",
   "id": "cd41d103",
   "metadata": {},
   "source": [
    "String Operations"
   ]
  },
  {
   "cell_type": "code",
   "execution_count": 4,
   "id": "468da789",
   "metadata": {},
   "outputs": [
    {
     "name": "stdout",
     "output_type": "stream",
     "text": [
      "Python Expert\n",
      "Name: John, Age: 25\n",
      "*****\n",
      "True\n",
      "True\n",
      "C\n",
      "o\n",
      "d\n",
      "e\n",
      "Pro\n",
      "gramming\n",
      "Program\n",
      "ing\n",
      "Pormig\n",
      "gnimmargorP\n"
     ]
    }
   ],
   "source": [
    "# Concatenation (joining strings)\n",
    "first = \"Python\"\n",
    "last = \"Expert\"\n",
    "full_name = first + \" \" + last # Output: Python Expert\n",
    "print(full_name)\n",
    "# Formatting strings\n",
    "name = \"John\"  \n",
    "age = 25\n",
    "formatted_string = f\"Name: {name}, Age: {age}\" # Output: Name: John, Age: 25\n",
    "print(formatted_string)\n",
    "# Repetition\n",
    "stars = \"*\" * 5 # Output: *****\n",
    "print(stars)\n",
    "\n",
    "# Membership testing (checking if a substring exists)\n",
    "print(\"Py\" in full_name)    # Output: True\n",
    "print(\"Java\" not in full_name) # Output: True\n",
    "\n",
    "# Iteration (looping through characters)\n",
    "for char in \"Code\":\n",
    "    print(char)\n",
    "# Output:\n",
    "# C\n",
    "# o\n",
    "# d\n",
    "# e\n",
    "\n",
    "# Slicing (extracting parts of a string)\n",
    "language = \"Programming\"\n",
    "print(language[0:3])   # Pro\n",
    "print(language[3:])    # gramming\n",
    "print(language[:7])    # Program\n",
    "print(language[-3:])   # ing\n",
    "print(language[::2])   # Pogamn (every second character)\n",
    "print(language[::-1])  # gnimmargorP (reversed!)"
   ]
  },
  {
   "cell_type": "markdown",
   "id": "34666775",
   "metadata": {},
   "source": [
    "String Methods:"
   ]
  },
  {
   "cell_type": "code",
   "execution_count": null,
   "id": "8dcd673d",
   "metadata": {},
   "outputs": [],
   "source": [
    "s = \"Hello, World!\"\n",
    "print(s.lower())      # \"hello, world!\" - all lowercase\n",
    "print(s.upper())      # \"HELLO, WORLD!\" - all uppercase\n",
    "print(s.capitalize()) # \"Hello, world!\" - first character uppercase, rest lowercase\n",
    "print(s.title())      # \"Hello, World!\" - first character of each word uppercase\n",
    "print(s.swapcase())   # \"hELLO, wORLD!\" - swaps upper to lower and vice-versa"
   ]
  },
  {
   "cell_type": "markdown",
   "id": "c4a33b88",
   "metadata": {},
   "source": [
    "Searching and Replacing"
   ]
  },
  {
   "cell_type": "code",
   "execution_count": 5,
   "id": "7534959f",
   "metadata": {},
   "outputs": [
    {
     "name": "stdout",
     "output_type": "stream",
     "text": [
      "3\n",
      "4\n",
      "-1\n",
      "4\n",
      "HeLLo, WorLd!\n",
      "HeLLo, World!\n"
     ]
    }
   ],
   "source": [
    "s = \"Hello, World!\"\n",
    "print(s.count('l'))          # 3 (count occurrences)\n",
    "print(s.find('o'))           # 4 (first occurrence index)\n",
    "print(s.find('z'))           # -1 (not found)\n",
    "print(s.index('o'))          # 4 (like find but raises ValueError if not found)\n",
    "print(s.replace('l', 'L'))   # \"HeLLo, WorLd!\"\n",
    "print(s.replace('l', 'L', 2)) # \"HeLLo, World!\" (replace first 2 occurrences)\n"
   ]
  },
  {
   "cell_type": "markdown",
   "id": "5d8f7892",
   "metadata": {},
   "source": [
    "Regular Expressions"
   ]
  },
  {
   "cell_type": "code",
   "execution_count": 8,
   "id": "7f61f04a",
   "metadata": {},
   "outputs": [
    {
     "name": "stdout",
     "output_type": "stream",
     "text": [
      "Found 'quick' at position 4\n",
      "String starts with 'The'\n",
      "Found 4 occurrences of 'o': ['o', 'o', 'o', 'o']\n"
     ]
    }
   ],
   "source": [
    "import re\n",
    "\n",
    "# Basic pattern matching: searching for \"quick\" in a sentence\n",
    "text = \"The quick brown fox\"\n",
    "pattern = r\"quick\"  # 'r' prefix for raw string is crucial for regex!\n",
    "match = re.search(pattern, text) # re.search looks for the pattern anywhere in the string\n",
    "if match:\n",
    "    print(f\"Found '{pattern}' at position {match.start()}\")\n",
    "    # Output: Found 'quick' at position 4\n",
    "\n",
    "    r\"my\\pattern\"  # Matches 'my' followed by 'pattern'\n",
    "\n",
    "# Using re.match to check if the string starts with \"The\"\n",
    "text = \"The quick brown fox\"\n",
    "match = re.match(r\"^The\", text)\n",
    "if match:   \n",
    "    print(\"String starts with 'The'\")  # Output: String starts with 'The'\n",
    "\n",
    "# Using re.match to check if the string ends with \" fox\"\n",
    "text = \"The quick brown fox\"\n",
    "match = re.match(r\"fox$\", text)\n",
    "if match:   \n",
    "    print(\"String ends with 'fox'\")  # Output: String ends with 'fox'\n",
    "\n",
    "# Using re.findall to find all occurrences of \"o\"\n",
    "text = \"The quick brown fox jumps over the lazy dog\"\n",
    "matches = re.findall(r\"o\", text)\n",
    "print(f\"Found {len(matches)} occurrences of 'o': {matches}\")\n",
    "# Output: Found 4 occurrences of 'o': ['o', 'o', 'o', 'o']"
   ]
  },
  {
   "cell_type": "code",
   "execution_count": 16,
   "id": "e3d9ba6c",
   "metadata": {},
   "outputs": [
    {
     "name": "stdout",
     "output_type": "stream",
     "text": [
      "1523\n",
      "5674\n"
     ]
    }
   ],
   "source": [
    "pattern_compiled = re.compile(r\"\\d+\") # Matches one or more digits\n",
    "match1 = pattern_compiled.search(\"abc1523\")\n",
    "match2 = pattern_compiled.search(\"5674c56xyz\")\n",
    "# This is more efficient than calling re.search(r\"\\d+\", ...) repeatedly.\n",
    "\n",
    "print(match1.group())  # Output: 123\n",
    "print(match2.group())  # Output: 456"
   ]
  },
  {
   "cell_type": "code",
   "execution_count": null,
   "id": "4c5c7c9e",
   "metadata": {},
   "outputs": [
    {
     "name": "stdout",
     "output_type": "stream",
     "text": [
      "user@example.com is valid\n",
      "invalid-email@ is invalid\n",
      "john.doe@domain.co.uk is valid\n"
     ]
    }
   ],
   "source": [
    "import re\n",
    "\n",
    "email_pattern = re.compile(r\"^[a-zA-Z0-9_.+-]+@[a-zA-Z0-9-]+\\.[a-zA-Z0-9-.]+$\")\n",
    "\n",
    "emails = [\"user@example.com\", \"invalid-email@\", \"john.doe@domain.co.uk\"]\n",
    "\n",
    "for email in emails:\n",
    "    if email_pattern.match(email):\n",
    "        print(f\"{email} is valid\")\n",
    "    else:\n",
    "        print(f\"{email} is invalid\")\n"
   ]
  },
  {
   "cell_type": "code",
   "execution_count": 21,
   "id": "2b37bee2",
   "metadata": {},
   "outputs": [
    {
     "name": "stdout",
     "output_type": "stream",
     "text": [
      "Date: 2025-04-05, Value: 42\n",
      "Date: 2025-04-06, Value: 37\n",
      "Date: 2025-04-07, Value: 99\n"
     ]
    }
   ],
   "source": [
    "log_line_pattern = re.compile(r\"(\\d{4}-\\d{2}-\\d{2}) (\\d+)\")\n",
    "\n",
    "with open(\"logfile.txt\", \"r\") as file:\n",
    "    for line in file:\n",
    "        match = log_line_pattern.search(line)\n",
    "        if match:\n",
    "            date, value = match.groups()\n",
    "            print(f\"Date: {date}, Value: {value}\")"
   ]
  },
  {
   "cell_type": "code",
   "execution_count": 22,
   "id": "171cfa7f",
   "metadata": {},
   "outputs": [
    {
     "name": "stdout",
     "output_type": "stream",
     "text": [
      "Name: John Smith\n",
      "Birthdate: 1990-05-20\n",
      "City: New York\n",
      "{'name': 'John Smith', 'date': '1990-05-20', 'city': 'New York'}\n"
     ]
    }
   ],
   "source": [
    "import re\n",
    "\n",
    "text = \"John Smith was born on 1990-05-20 in New York.\"\n",
    "\n",
    "# Using named capture groups\n",
    "pattern = r\"(?P<name>\\w+ \\w+) was born on (?P<date>\\d{4}-\\d{2}-\\d{2}) in (?P<city>.+)\\.\"\n",
    "match = re.search(pattern, text)\n",
    "\n",
    "if match:\n",
    "    # Access by group name\n",
    "    print(f\"Name: {match.group('name')}\")\n",
    "    print(f\"Birthdate: {match.group('date')}\")\n",
    "    print(f\"City: {match.group('city')}\")\n",
    "\n",
    "    # Get all named groups as a dictionary\n",
    "    info = match.groupdict()\n",
    "    print(info)\n"
   ]
  },
  {
   "cell_type": "markdown",
   "id": "f0edd530",
   "metadata": {},
   "source": [
    "Python Multithreading"
   ]
  },
  {
   "cell_type": "code",
   "execution_count": 25,
   "id": "9e849327",
   "metadata": {},
   "outputs": [
    {
     "name": "stdout",
     "output_type": "stream",
     "text": [
      "Starting to make tea...\n",
      "Toasting bread...\n",
      "Bread is toasted!\n",
      "Tea is ready!\n",
      "Breakfast is ready!\n"
     ]
    }
   ],
   "source": [
    "import time\n",
    "import threading\n",
    "\n",
    "def make_tea():\n",
    "    print(\"Starting to make tea...\")\n",
    "    time.sleep(10)  # Simulate waiting for water to boil\n",
    "    print(\"Tea is ready!\")\n",
    "\n",
    "def toast_bread():\n",
    "    print(\"Toasting bread...\")\n",
    "    time.sleep(8)  # Simulate toasting\n",
    "    print(\"Bread is toasted!\")\n",
    "\n",
    "# Create thread objects\n",
    "thread1 = threading.Thread(target=make_tea)\n",
    "thread2 = threading.Thread(target=toast_bread)\n",
    "\n",
    "# Start both threads\n",
    "thread1.start()\n",
    "thread2.start()\n",
    "\n",
    "# Wait for both threads to finish\n",
    "thread1.join()\n",
    "thread2.join()\n",
    "\n",
    "print(\"Breakfast is ready!\")"
   ]
  },
  {
   "cell_type": "markdown",
   "id": "77a96cd5",
   "metadata": {},
   "source": [
    "Multithreading and Generators"
   ]
  },
  {
   "cell_type": "markdown",
   "id": "f47fc3eb",
   "metadata": {},
   "source": [
    "Generators\n"
   ]
  },
  {
   "cell_type": "code",
   "execution_count": 6,
   "id": "180bed75",
   "metadata": {},
   "outputs": [
    {
     "name": "stdout",
     "output_type": "stream",
     "text": [
      "1\n",
      "2\n",
      "3\n",
      "1\n",
      "2\n",
      "3\n"
     ]
    }
   ],
   "source": [
    "def simple_generator():\n",
    "    yield 1\n",
    "    yield 2\n",
    "    yield 3\n",
    "    # This generator yields three values, one at a time.\n",
    "\n",
    "# Let's see it in action with next()\n",
    "gen = simple_generator()\n",
    "print(next(gen))  # Output: 1\n",
    "print(next(gen))  # Output: 2\n",
    "print(next(gen))  # Output: 3\n",
    "# print(next(gen))  # Raises StopIteration, since there are no more values\n",
    "# Using a generator function to yield values one at a time\n",
    "# This is a simple generator function that yields three values.\n",
    "\n",
    "# If you ask for more, it'll say \"Nope, I'm done!\" (raises StopIteration)\n",
    "\n",
    "# Or, even easier, just use it in a loop!\n",
    "for value in simple_generator():\n",
    "    print(value)\n",
    "# Output:\n",
    "# 1\n",
    "# 2\n",
    "# 3"
   ]
  },
  {
   "cell_type": "code",
   "execution_count": null,
   "id": "ad869d0f",
   "metadata": {},
   "outputs": [],
   "source": [
    "# Generator Function (Memory Efficient)\n",
    "def generate_ips(base=\"192.168.1\"):\n",
    "    for i in range(1, 255):\n",
    "        yield f\"{base}.{i}\"\n",
    "\n",
    "# Usage\n",
    "for ip in generate_ips():\n",
    "    print(f\"Pinging {ip}...\")"
   ]
  },
  {
   "cell_type": "code",
   "execution_count": null,
   "id": "1a407a3a",
   "metadata": {},
   "outputs": [],
   "source": [
    "# List Function (Not Memory Efficient)\n",
    "def generate_ips_list(base=\"192.168.1\"):\n",
    "    ips = []\n",
    "    for i in range(1, 255):\n",
    "        ips.append(f\"{base}.{i}\")\n",
    "    return ips\n",
    "\n",
    "# Using the list version\n",
    "ip_list = generate_ips_list()\n",
    "\n",
    "for ip in ip_list:\n",
    "    print(f\"Pinging {ip}...\")"
   ]
  },
  {
   "cell_type": "markdown",
   "id": "0ea971ad",
   "metadata": {},
   "source": [
    "Generator Expressions"
   ]
  },
  {
   "cell_type": "code",
   "execution_count": 15,
   "id": "6094163d",
   "metadata": {},
   "outputs": [
    {
     "name": "stdout",
     "output_type": "stream",
     "text": [
      "<class 'list'>\n",
      "<class 'generator'>\n",
      "0\n",
      "1\n",
      "4\n",
      "9\n",
      "16\n",
      "25\n",
      "36\n",
      "49\n",
      "64\n",
      "81\n"
     ]
    }
   ],
   "source": [
    "# List comprehension (makes the whole list in memory, right now!)\n",
    "squares_list = [x**2 for x in range(10)]\n",
    "print(type(squares_list))  # Output: <class 'list'>\n",
    "\n",
    "# Generator expression (makes values as you need 'em!)\n",
    "squares_gen = (x**2 for x in range(10))\n",
    "print(type(squares_gen))   # Output: <class 'generator'>\n",
    "\n",
    "# Let's use our generator\n",
    "for square in squares_gen:\n",
    "    print(square)\n",
    "# Output: 0, 1, 4, ..., 81"
   ]
  },
  {
   "cell_type": "markdown",
   "id": "2e586c22",
   "metadata": {},
   "source": [
    "Generator Methods:"
   ]
  },
  {
   "cell_type": "code",
   "execution_count": 16,
   "id": "cb78250d",
   "metadata": {},
   "outputs": [
    {
     "name": "stdout",
     "output_type": "stream",
     "text": [
      "Gen started!\n",
      "1\n",
      "Received 1: Hello\n",
      "2\n",
      "Received 2: None\n",
      "3\n",
      "Gen started!\n",
      "Caught: Oops, an error was injected!\n",
      "Gen started!\n",
      "Generator closed, just as planned!\n"
     ]
    }
   ],
   "source": [
    "def generator_with_methods():\n",
    "    print(\"Gen started!\")\n",
    "    val1 = yield 1\n",
    "    print(f\"Received 1: {val1}\")\n",
    "    val2 = yield 2\n",
    "    print(f\"Received 2: {val2}\")\n",
    "    yield 3\n",
    "    print(\"Gen finished!\")\n",
    "\n",
    "gen = generator_with_methods()\n",
    "print(next(gen))            # Output: Gen started!\\n1\n",
    "print(gen.send(\"Hello\"))    # Output: Received 1: Hello\\n2\n",
    "print(next(gen))            # Output: Received 2: None\\n3\n",
    "\n",
    "# Let's try throwing an error!\n",
    "gen_throw = generator_with_methods()\n",
    "next(gen_throw) # Get it started\n",
    "try:\n",
    "    gen_throw.throw(ValueError(\"Oops, an error was injected!\"))\n",
    "except ValueError as e:\n",
    "    print(f\"Caught: {e}\") # Output: Caught: Oops, an error was injected!\n",
    "\n",
    "# And closing it down\n",
    "gen_close = generator_with_methods()\n",
    "next(gen_close) # Get it started\n",
    "gen_close.close()\n",
    "try:\n",
    "    next(gen_close) # This will fail because it's closed\n",
    "except StopIteration:\n",
    "    print(\"Generator closed, just as planned!\") # Output: Generator closed, just as planned!\n"
   ]
  },
  {
   "cell_type": "markdown",
   "id": "dc312ce4",
   "metadata": {},
   "source": [
    "Custom CI/CD Pipeline Step Controller- Conceptual"
   ]
  },
  {
   "cell_type": "code",
   "execution_count": 22,
   "id": "8a987fa1",
   "metadata": {},
   "outputs": [
    {
     "name": "stdout",
     "output_type": "stream",
     "text": [
      "Pipeline started\n",
      "Cloning repo...\n",
      "Building Docker image...\n",
      "Deploying to staging...\n",
      "Deployment status: SUCCESS\n"
     ]
    }
   ],
   "source": [
    "def pipeline():\n",
    "    print(\"Pipeline started\")\n",
    "    code = yield \"Cloning repo...\"\n",
    "    if code == \"SUCCESS\":\n",
    "        build_result = yield \"Building Docker image...\"\n",
    "        if build_result == \"SUCCESS\":\n",
    "            deploy_result = yield \"Deploying to staging...\"\n",
    "            yield f\"Deployment status: {deploy_result}\"\n",
    "        else:\n",
    "            yield \"Build failed\"\n",
    "    else:\n",
    "        yield \"Clone failed\"\n",
    "\n",
    "# Simulating the pipeline\n",
    "p = pipeline()\n",
    "print(next(p))               # Cloning repo...\n",
    "print(p.send(\"SUCCESS\"))     # Building Docker image...\n",
    "print(p.send(\"SUCCESS\"))     # Deploying to staging...\n",
    "print(p.send(\"SUCCESS\"))     # Deployment status: SUCCESS"
   ]
  },
  {
   "cell_type": "code",
   "execution_count": null,
   "id": "0b6eb457",
   "metadata": {},
   "outputs": [],
   "source": [
    "# The pipeline() function is a Python generator that simulates a CI/CD workflow with steps like cloning a repo, \n",
    "# building a Docker image, and deploying to staging. \n",
    "# It uses yield to pause at each step and .send() to receive results (\"SUCCESS\" or \"FAILED\"), allowing dynamic control \n",
    "# of the pipeline flow based on real-time outcomes — making it ideal for lightweight, state-aware DevOps automation .\n",
    "\n",
    "#!/usr/bin/env python3\n",
    "# This script simulates a simple CI/CD pipeline using Python generators.\n",
    "import subprocess\n",
    "\n",
    "def pipeline():\n",
    "    print(\"Pipeline started\")\n",
    "    \n",
    "    # Step 1: Clone repo\n",
    "    result = yield \"Cloning repo...\"\n",
    "    if result != \"SUCCESS\":\n",
    "        yield \"Clone failed\"\n",
    "        return\n",
    "    \n",
    "    # Step 2: Build Docker image\n",
    "    result = yield \"Building Docker image...\"\n",
    "    if result != \"SUCCESS\":\n",
    "        yield \"Build failed\"\n",
    "        return\n",
    "\n",
    "    # Step 3: Deploy to staging\n",
    "    result = yield \"Deploying to staging...\"\n",
    "    if result != \"SUCCESS\":\n",
    "        yield \"Deployment failed\"\n",
    "        return\n",
    "\n",
    "    yield \"Deployment successful\"\n",
    "\n",
    "# Simulate with real commands\n",
    "def run_pipeline():\n",
    "    p = pipeline()\n",
    "    print(next(p))  # Start pipeline\n",
    "\n",
    "    # Step 1: Clone repo\n",
    "    try:\n",
    "        subprocess.run([\"git\", \"clone\", \"https://github.com/example/repo.git \"], check=True)\n",
    "        print(p.send(\"SUCCESS\"))\n",
    "    except subprocess.CalledProcessError:\n",
    "        print(p.send(\"FAILED\"))\n",
    "\n",
    "    # Step 2: Build Docker image\n",
    "    try:\n",
    "        subprocess.run([\"docker\", \"build\", \"-t\", \"myapp\", \".\"], check=True)\n",
    "        print(p.send(\"SUCCESS\"))\n",
    "    except subprocess.CalledProcessError:\n",
    "        print(p.send(\"FAILED\"))\n",
    "\n",
    "    # Step 3: Deploy to staging\n",
    "    try:\n",
    "        subprocess.run([\"kubectl\", \"apply\", \"-f\", \"deployment.yaml\"], check=True)\n",
    "        print(p.send(\"SUCCESS\"))\n",
    "    except subprocess.CalledProcessError:\n",
    "        print(p.send(\"FAILED\"))\n",
    "\n",
    "run_pipeline()"
   ]
  }
 ],
 "metadata": {
  "kernelspec": {
   "display_name": "Python 3",
   "language": "python",
   "name": "python3"
  },
  "language_info": {
   "codemirror_mode": {
    "name": "ipython",
    "version": 3
   },
   "file_extension": ".py",
   "mimetype": "text/x-python",
   "name": "python",
   "nbconvert_exporter": "python",
   "pygments_lexer": "ipython3",
   "version": "3.13.3"
  }
 },
 "nbformat": 4,
 "nbformat_minor": 5
}
