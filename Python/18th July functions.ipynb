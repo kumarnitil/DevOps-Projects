{
 "cells": [
  {
   "cell_type": "code",
   "execution_count": 1,
   "metadata": {},
   "outputs": [
    {
     "name": "stdout",
     "output_type": "stream",
     "text": [
      "10 + 20 = 30\n"
     ]
    }
   ],
   "source": [
    "def add(x, y):\n",
    "    \"\"\"Calculates the sum of two numbers.\n",
    "\n",
    "    Args:\n",
    "        x (int or float): The first number.\n",
    "        y (int or float): The second number.\n",
    "\n",
    "    Returns:\n",
    "        int or float: The sum of x and y.\n",
    "    \"\"\"\n",
    "    return x + y\n",
    "\n",
    "result = add(10, 20)\n",
    "print(f\"10 + 20 = {result}\")\n"
   ]
  }
 ],
 "metadata": {
  "kernelspec": {
   "display_name": "Python 3",
   "language": "python",
   "name": "python3"
  },
  "language_info": {
   "codemirror_mode": {
    "name": "ipython",
    "version": 3
   },
   "file_extension": ".py",
   "mimetype": "text/x-python",
   "name": "python",
   "nbconvert_exporter": "python",
   "pygments_lexer": "ipython3",
   "version": "3.13.5"
  }
 },
 "nbformat": 4,
 "nbformat_minor": 2
}
