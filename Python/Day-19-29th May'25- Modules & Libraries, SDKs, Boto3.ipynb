{
 "cells": [
  {
   "cell_type": "markdown",
   "id": "009fbb7d",
   "metadata": {},
   "source": [
    "Modules"
   ]
  },
  {
   "cell_type": "markdown",
   "id": "fd53b2d1",
   "metadata": {},
   "source": [
    "Package"
   ]
  },
  {
   "cell_type": "code",
   "execution_count": null,
   "id": "b77ceced",
   "metadata": {},
   "outputs": [],
   "source": [
    "mypackage/\n",
    "    __init__.py\n",
    "    module1.py\n",
    "    module2.py\n",
    "    subpackage/\n",
    "        __init__.py\n",
    "        module3.py"
   ]
  },
  {
   "cell_type": "markdown",
   "id": "ef4627cb",
   "metadata": {},
   "source": [
    "Libraries vs. Frameworks vs. SDKs"
   ]
  },
  {
   "cell_type": "markdown",
   "id": "870f0c1b",
   "metadata": {},
   "source": [
    "Boto3"
   ]
  },
  {
   "cell_type": "markdown",
   "id": "96e8720a",
   "metadata": {},
   "source": [
    "Client (Low-Level):"
   ]
  },
  {
   "cell_type": "code",
   "execution_count": null,
   "id": "47a83ad1",
   "metadata": {},
   "outputs": [],
   "source": [
    "import boto3\n",
    "# Using the client interface (low-level)\n",
    "s3_client = boto3.client('s3') # Specify the service\n",
    "response = s3_client.list_buckets()\n",
    "# The response is a dictionary\n",
    "for bucket in response['Buckets']:\n",
    "    print(f\"Bucket name (via client): {bucket['Name']}\")"
   ]
  },
  {
   "cell_type": "markdown",
   "id": "59379cc0",
   "metadata": {},
   "source": [
    "Resource (High Level):"
   ]
  },
  {
   "cell_type": "code",
   "execution_count": null,
   "id": "a7427766",
   "metadata": {},
   "outputs": [],
   "source": [
    "import boto3\n",
    "# Using the resource interface (high-level)\n",
    "s3_resource = boto3.resource('s3') # Specify the service\n",
    "# s3_resource.buckets is a collection\n",
    "for bucket in s3_resource.buckets.all():\n",
    "    # bucket is a Bucket resource object\n",
    "    print(f\"Bucket name (via resource): {bucket.name}\")"
   ]
  },
  {
   "cell_type": "markdown",
   "id": "8a7679a0",
   "metadata": {},
   "source": [
    "Sessions and Credentials:"
   ]
  },
  {
   "cell_type": "code",
   "execution_count": null,
   "id": "4002e597",
   "metadata": {},
   "outputs": [],
   "source": [
    "import boto3\n",
    "# Create a session with specific credentials (use with caution)\n",
    "# session = boto3.Session(\n",
    "#     aws_access_key_id='YOUR_ACCESS_KEY_ID',\n",
    "#     aws_secret_access_key='YOUR_SECRET_ACCESS_KEY',\n",
    "#     region_name='us-west-2' # Example region\n",
    "# )\n",
    "# s3 = session.client('s3')\n",
    "# For most cases, rely on default credential discovery:\n",
    "s3 = boto3.client('s3', region_name='us-east-1') # Example"
   ]
  },
  {
   "cell_type": "code",
   "execution_count": null,
   "id": "38ad947f",
   "metadata": {},
   "outputs": [],
   "source": [
    "# Setting up AWS IAM Account with a user with Adminstrator Access\n",
    "# Create an IAM user with AdministratorAccess policy\n",
    "# and download the credentials (access key ID and secret access key).\n",
    "\n",
    "# Setting up boto3 to use a specific profile\n",
    "#Install Python from python.org\n",
    "\n",
    "'''python --version\n",
    "# or\n",
    "python3 --version\n",
    "\n",
    "pip --version\n",
    "# or\n",
    "pip3 --version\n",
    "\n",
    "# Install AWS CLI\n",
    "aws configure\n",
    "# or\n",
    "aws configure --profile boto3\n",
    "\n",
    "# Create a directory for your project\n",
    "# and set up a virtual environment\n",
    "\n",
    "mkdir boto3demo\n",
    "cd boto3demo\n",
    "\n",
    "# python3 -m venv .venv # Create a virtual environment\n",
    "source .venv/Scripts/activate # Activate the virtual environment\n",
    "pip install boto3 # Install boto3 in the virtual environment\n",
    "'''\n",
    "\n",
    "\n",
    "boto3demo/\n",
    "│\n",
    "├── .venv/               # Virtual environment\n",
    "├── list_buckets.py      # Python script"
   ]
  },
  {
   "cell_type": "markdown",
   "id": "6cb1106c",
   "metadata": {},
   "source": [
    "BOTO3 Hands-On - Utilize te python files uploaded in drive."
   ]
  },
  {
   "cell_type": "code",
   "execution_count": null,
   "id": "b3ac4ec7",
   "metadata": {},
   "outputs": [],
   "source": [
    "# List all S3 buckets in the specified region\n",
    "# list_buckets.py\n",
    "\n",
    "import boto3\n",
    "\n",
    "# Use the 'boto3' AWS CLI profile\n",
    "session = boto3.Session(profile_name='boto3')\n",
    "\n",
    "# Create an S3 client using the boto3 profile\n",
    "s3_client = session.client('s3')\n",
    "\n",
    "# Call AWS API to list S3 buckets\n",
    "response = s3_client.list_buckets()\n",
    "\n",
    "# Print bucket names\n",
    "print(\"S3 Buckets in your AWS Account:\")\n",
    "for bucket in response['Buckets']:\n",
    "    print(f\"- {bucket['Name']}\")"
   ]
  },
  {
   "cell_type": "markdown",
   "id": "b1840867",
   "metadata": {},
   "source": [
    "THIS MARKS A CLOSURE OF YOUR PYTHON SESSIONS"
   ]
  }
 ],
 "metadata": {
  "kernelspec": {
   "display_name": "Python 3",
   "language": "python",
   "name": "python3"
  },
  "language_info": {
   "codemirror_mode": {
    "name": "ipython",
    "version": 3
   },
   "file_extension": ".py",
   "mimetype": "text/x-python",
   "name": "python",
   "nbconvert_exporter": "python",
   "pygments_lexer": "ipython3",
   "version": "3.13.3"
  }
 },
 "nbformat": 4,
 "nbformat_minor": 5
}
