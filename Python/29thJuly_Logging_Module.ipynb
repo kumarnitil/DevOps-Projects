{
 "cells": [
  {
   "cell_type": "markdown",
   "id": "f7b2ba36",
   "metadata": {},
   "source": [
    "The logging module is a powerful and flexible tool in Python's standard library for tracking events that occur while your software runs.\n",
    "- **Track application behavior:** Log messages provide insights into how your code is executing, helping you understand its flow and behavior.\n",
    "- **Debug issues:** When errors or unexpected behavior occur, logs serve as a valuable reference, providing the context and information needed to diagnose and resolve problems.\n",
    "- **Monitor performance:** Logging can help track key metrics and statistics, enabling you to optimize your software's performance.\n",
    "- **Maintain applications:** Logs provide a record of events, aiding in maintaining and troubleshooting your application over time.\n",
    "\n",
    "Why use the logging module over print() statements?\n",
    "While print() statements can be used for quick debugging, the logging module offers significant advantages for more robust and maintainable logging practices\n",
    "- **Granular control:** You can easily adjust the verbosity of your log output without modifying your code.\n",
    "- **Output flexibility:** Log messages can be directed to various destinations like the console, files, network sockets, or even external services.\n",
    "- **Contextual information:** Logs can automatically include details like timestamps, file names, line numbers, function names, and more, providing valuable context for each event.\n",
    "- **Thread safety:** The logging module is designed to be thread-safe, making it suitable for multi-threaded applications where print() statements can lead to issues.\n"
   ]
  },
  {
   "cell_type": "code",
   "execution_count": 1,
   "id": "25f5ad78",
   "metadata": {},
   "outputs": [
    {
     "name": "stdout",
     "output_type": "stream",
     "text": [
      "Beginning of the Logging Module Explanation\n"
     ]
    }
   ],
   "source": [
    "print(\"Beginning of the Logging Module Explanation\")"
   ]
  },
  {
   "cell_type": "markdown",
   "id": "88a9b833",
   "metadata": {},
   "source": [
    "The logging module is built on a modular architecture with components including: \n",
    "- **Loggers:** Used by applications to interact with the logging system.\n",
    "- **Handlers:** Determine where log messages are sent (e.g., files, console).\n",
    "- **Formatters:** Control the layout and content of log messages.\n",
    "- **Filters:** Selectively include or exclude log messages based on criteria.\n",
    "- **Log Levels:** Categorize messages by severity. Levels range from DEBUG (least severe) to CRITICAL (most severe)."
   ]
  },
  {
   "cell_type": "code",
   "execution_count": 6,
   "id": "d9fb7a34",
   "metadata": {},
   "outputs": [],
   "source": [
    "import logging\n",
    "import subprocess\n",
    "import os\n",
    "\n",
    "logging.basicConfig(filename='logging.log', level=logging.INFO, format='%(asctime)s - %(message)s')\n",
    "logging.info(\"Starting the logging module explanation\")\n",
    "\n",
    "list = [\"nginx\", \"apache\", \"mysql\"]\n",
    "for app in list:\n",
    "    try:\n",
    "        result = subprocess.run(['systemctl', 'status', app], capture_output=True, text=True)\n",
    "        logging.info(result)\n",
    "    except subprocess.CalledProcessError as e:  # Handle errors in case the command fails\n",
    "        logging.error(f\"Error checking status of {app}: {e}\")\n",
    "    \n",
    "logging.info(\"Completed the systemctl status check for applications\")\n"
   ]
  }
 ],
 "metadata": {
  "kernelspec": {
   "display_name": "Python 3",
   "language": "python",
   "name": "python3"
  },
  "language_info": {
   "codemirror_mode": {
    "name": "ipython",
    "version": 3
   },
   "file_extension": ".py",
   "mimetype": "text/x-python",
   "name": "python",
   "nbconvert_exporter": "python",
   "pygments_lexer": "ipython3",
   "version": "3.12.3"
  }
 },
 "nbformat": 4,
 "nbformat_minor": 5
}
