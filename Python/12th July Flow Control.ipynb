{
 "cells": [
  {
   "cell_type": "markdown",
   "metadata": {},
   "source": [
    "Flow Control\n",
    "DevOps case scenario - CPU Usage, space, auto scaling etc\n",
    "Auto-Scaling\n",
    "The condition in Auto-Scaling is CPU Utilization\n",
    "In Cloudwatch you have these matrices\n",
    "\n"
   ]
  },
  {
   "cell_type": "code",
   "execution_count": 4,
   "metadata": {},
   "outputs": [
    {
     "name": "stdout",
     "output_type": "stream",
     "text": [
      "Excellent! You earned an A.\n"
     ]
    }
   ],
   "source": [
    "grade = 85\n",
    "\n",
    "if grade >= 90 or grade >= 60:\n",
    "    print(\"Excellent! You earned an A.\")\n",
    "# elif grade >= 80:\n",
    "#    print(\"Great job! You earned a B.\")\n",
    "#elif grade >= 70:\n",
    "#    print(\"You did well. You earned a C.\")\n",
    "else:\n",
    "    print(\"Keep studying! You earned a D or F.\")"
   ]
  },
  {
   "cell_type": "markdown",
   "metadata": {},
   "source": [
    "For Loop - Beginning\n",
    "We defined another variable fruit here to iterate in the list"
   ]
  },
  {
   "cell_type": "code",
   "execution_count": 7,
   "metadata": {},
   "outputs": [
    {
     "name": "stdout",
     "output_type": "stream",
     "text": [
      "apple\n",
      "banana\n",
      "cherry\n"
     ]
    }
   ],
   "source": [
    "fruits = [\"apple\", \"banana\", \"cherry\"]\n",
    "for fruit in fruits:\n",
    "    ''' if fruit == \"banana\":\n",
    "        continue  # Skip the banana '''\n",
    "    print(fruit)"
   ]
  },
  {
   "cell_type": "code",
   "execution_count": 8,
   "metadata": {},
   "outputs": [
    {
     "name": "stdout",
     "output_type": "stream",
     "text": [
      "1\n",
      "2\n",
      "Found 3, exiting the loop\n"
     ]
    }
   ],
   "source": [
    "numbers = [1, 2, 3, 4, 5]\n",
    "for number in numbers:\n",
    "  if number == 3:\n",
    "    print(f\"Found {number}, exiting the loop\")\n",
    "    break  # Exit the loop after finding 3\n",
    "  else:\n",
    "    print(number)\n"
   ]
  }
 ],
 "metadata": {
  "kernelspec": {
   "display_name": "Python 3",
   "language": "python",
   "name": "python3"
  },
  "language_info": {
   "codemirror_mode": {
    "name": "ipython",
    "version": 3
   },
   "file_extension": ".py",
   "mimetype": "text/x-python",
   "name": "python",
   "nbconvert_exporter": "python",
   "pygments_lexer": "ipython3",
   "version": "3.13.5"
  }
 },
 "nbformat": 4,
 "nbformat_minor": 2
}
