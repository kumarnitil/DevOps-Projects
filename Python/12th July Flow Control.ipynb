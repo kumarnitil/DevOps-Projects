{
 "cells": [
  {
   "cell_type": "markdown",
   "metadata": {},
   "source": [
    "Flow Control\n",
    "DevOps case scenario - CPU Usage, space, auto scaling etc\n",
    "Auto-Scaling\n",
    "The condition in Auto-Scaling is CPU Utilization\n",
    "In Cloudwatch you have these matrices\n",
    "\n"
   ]
  },
  {
   "cell_type": "code",
   "execution_count": 4,
   "metadata": {},
   "outputs": [
    {
     "name": "stdout",
     "output_type": "stream",
     "text": [
      "Excellent! You earned an A.\n"
     ]
    }
   ],
   "source": [
    "grade = 85\n",
    "\n",
    "if grade >= 90 or grade >= 60:\n",
    "    print(\"Excellent! You earned an A.\")\n",
    "# elif grade >= 80:\n",
    "#    print(\"Great job! You earned a B.\")\n",
    "#elif grade >= 70:\n",
    "#    print(\"You did well. You earned a C.\")\n",
    "else:\n",
    "    print(\"Keep studying! You earned a D or F.\")"
   ]
  },
  {
   "cell_type": "markdown",
   "metadata": {},
   "source": [
    "For Loop - Beginning\n",
    "We defined another variable fruit here to iterate in the list"
   ]
  },
  {
   "cell_type": "code",
   "execution_count": 9,
   "metadata": {},
   "outputs": [
    {
     "name": "stdout",
     "output_type": "stream",
     "text": [
      "apple\n",
      "banana\n",
      "cherry\n"
     ]
    }
   ],
   "source": [
    "fruits = [\"apple\", \"banana\", \"cherry\"]\n",
    "for fruit in fruits:\n",
    "    ''' if fruit == \"banana\":\n",
    "        continue  # Skip the banana '''\n",
    "    print(fruit)"
   ]
  },
  {
   "cell_type": "code",
   "execution_count": 8,
   "metadata": {},
   "outputs": [
    {
     "name": "stdout",
     "output_type": "stream",
     "text": [
      "1\n",
      "2\n",
      "Found 3, exiting the loop\n"
     ]
    }
   ],
   "source": [
    "numbers = [1, 2, 3, 4, 5]\n",
    "for number in numbers:\n",
    "  if number == 3:\n",
    "    print(f\"Found {number}, exiting the loop\")\n",
    "    break  # Exit the loop after finding 3\n",
    "  else:\n",
    "    print(number)\n"
   ]
  },
  {
   "cell_type": "markdown",
   "metadata": {},
   "source": [
    "Match-Case\n",
    "- The match-case statement, introduced in Python 3.10, offers a powerful and concise way for pattern matching and conditional execution\n",
    "- input() function is used accept value from user"
   ]
  },
  {
   "cell_type": "code",
   "execution_count": 12,
   "metadata": {},
   "outputs": [
    {
     "name": "stdout",
     "output_type": "stream",
     "text": [
      "Greater than three: 5\n"
     ]
    }
   ],
   "source": [
    "number = int(input(\"Enter a number: \"))\n",
    "\n",
    "match number: # Do not add any value here\n",
    "    case 0:\n",
    "        print(\"Zero\")\n",
    "    case 3:\n",
    "        print(\"Three\")\n",
    "    case x if x > 3:\n",
    "        print(f\"Greater than three: {x}\")\n",
    "    case _:\n",
    "        print(\"None of the case matches\")"
   ]
  },
  {
   "cell_type": "markdown",
   "metadata": {},
   "source": [
    "- While Loop\n",
    "- Break \n",
    "break Statement:\n",
    "Exits the loop entirely, regardless of the loop's condition.\n",
    "Control jumps to the statement after the loop. \n",
    "- Continue - continue Statement:\n",
    "Skips the remaining code in the current iteration of the loop.\n",
    "The loop jumps back to the beginning of the next iteration."
   ]
  },
  {
   "cell_type": "code",
   "execution_count": 15,
   "metadata": {},
   "outputs": [
    {
     "name": "stdout",
     "output_type": "stream",
     "text": [
      "The count is 10\n",
      "The count is 9\n",
      "Breaking at 8\n",
      "Loop ended\n"
     ]
    }
   ],
   "source": [
    "num1 = 10\n",
    "while num1 > 0:\n",
    "    if num1 == 5:\n",
    "        print(\"Skipping 5\")\n",
    "        num1 = num1 - 1  # Decrement to avoid infinite loop\n",
    "        continue  # Skip the rest of the loop when num1 is 5\n",
    "    elif num1 == 8:\n",
    "        print(\"Breaking at 8\")\n",
    "        break  # Exit the loop when num1 is 8\n",
    "    print(f\"The count is {num1}\")\n",
    "    num1 = num1 - 1\n",
    "    \n",
    "print(\"Loop ended\")\n",
    "    "
   ]
  }
 ],
 "metadata": {
  "kernelspec": {
   "display_name": "Python 3",
   "language": "python",
   "name": "python3"
  },
  "language_info": {
   "codemirror_mode": {
    "name": "ipython",
    "version": 3
   },
   "file_extension": ".py",
   "mimetype": "text/x-python",
   "name": "python",
   "nbconvert_exporter": "python",
   "pygments_lexer": "ipython3",
   "version": "3.13.5"
  }
 },
 "nbformat": 4,
 "nbformat_minor": 2
}
