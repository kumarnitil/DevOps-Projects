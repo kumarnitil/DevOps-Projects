{
 "cells": [
  {
   "cell_type": "markdown",
   "metadata": {},
   "source": [
    "Flow Control\n",
    "DevOps case scenario - CPU Usage, space, auto scaling etc\n",
    "Auto-Scaling\n",
    "The condition in Auto-Scaling is CPU Utilization\n",
    "In Cloudwatch you have these matrices\n",
    "\n"
   ]
  },
  {
   "cell_type": "code",
   "execution_count": 1,
   "metadata": {},
   "outputs": [
    {
     "name": "stdout",
     "output_type": "stream",
     "text": [
      "Great job! You earned a B.\n"
     ]
    }
   ],
   "source": [
    "grade = 85\n",
    "\n",
    "if grade >= 90:\n",
    "    print(\"Excellent! You earned an A.\")\n",
    "elif grade >= 80:\n",
    "    print(\"Great job! You earned a B.\")\n",
    "elif grade >= 70:\n",
    "    print(\"You did well. You earned a C.\")\n",
    "else:\n",
    "    print(\"Keep studying! You earned a D or F.\")"
   ]
  }
 ],
 "metadata": {
  "kernelspec": {
   "display_name": "Python 3",
   "language": "python",
   "name": "python3"
  },
  "language_info": {
   "codemirror_mode": {
    "name": "ipython",
    "version": 3
   },
   "file_extension": ".py",
   "mimetype": "text/x-python",
   "name": "python",
   "nbconvert_exporter": "python",
   "pygments_lexer": "ipython3",
   "version": "3.13.5"
  }
 },
 "nbformat": 4,
 "nbformat_minor": 2
}
