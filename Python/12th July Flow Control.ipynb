{
 "cells": [
  {
   "cell_type": "markdown",
   "metadata": {},
   "source": [
    "Flow Control\n",
    "DevOps case scenario - CPU Usage, space, auto scaling etc\n",
    "Auto-Scaling\n",
    "The condition in Auto-Scaling is CPU Utilization\n",
    "In Cloudwatch you have these matrices\n",
    "\n"
   ]
  },
  {
   "cell_type": "code",
   "execution_count": 4,
   "metadata": {},
   "outputs": [
    {
     "name": "stdout",
     "output_type": "stream",
     "text": [
      "Excellent! You earned an A.\n"
     ]
    }
   ],
   "source": [
    "grade = 85\n",
    "\n",
    "if grade >= 90 or grade >= 60:\n",
    "    print(\"Excellent! You earned an A.\")\n",
    "# elif grade >= 80:\n",
    "#    print(\"Great job! You earned a B.\")\n",
    "#elif grade >= 70:\n",
    "#    print(\"You did well. You earned a C.\")\n",
    "else:\n",
    "    print(\"Keep studying! You earned a D or F.\")"
   ]
  },
  {
   "cell_type": "markdown",
   "metadata": {},
   "source": [
    "For Loop - Beginning\n",
    "We defined another variable fruit here to iterate in the list"
   ]
  },
  {
   "cell_type": "code",
   "execution_count": 9,
   "metadata": {},
   "outputs": [
    {
     "name": "stdout",
     "output_type": "stream",
     "text": [
      "apple\n",
      "banana\n",
      "cherry\n"
     ]
    }
   ],
   "source": [
    "fruits = [\"apple\", \"banana\", \"cherry\"]\n",
    "for fruit in fruits:\n",
    "    ''' if fruit == \"banana\":\n",
    "        continue  # Skip the banana '''\n",
    "    print(fruit)"
   ]
  },
  {
   "cell_type": "code",
   "execution_count": 8,
   "metadata": {},
   "outputs": [
    {
     "name": "stdout",
     "output_type": "stream",
     "text": [
      "1\n",
      "2\n",
      "Found 3, exiting the loop\n"
     ]
    }
   ],
   "source": [
    "numbers = [1, 2, 3, 4, 5]\n",
    "for number in numbers:\n",
    "  if number == 3:\n",
    "    print(f\"Found {number}, exiting the loop\")\n",
    "    break  # Exit the loop after finding 3\n",
    "  else:\n",
    "    print(number)\n"
   ]
  },
  {
   "cell_type": "markdown",
   "metadata": {},
   "source": [
    "Match-Case\n",
    "- The match-case statement, introduced in Python 3.10, offers a powerful and concise way for pattern matching and conditional execution\n",
    "- input() function is used accept value from user"
   ]
  },
  {
   "cell_type": "code",
   "execution_count": 12,
   "metadata": {},
   "outputs": [
    {
     "name": "stdout",
     "output_type": "stream",
     "text": [
      "Greater than three: 5\n"
     ]
    }
   ],
   "source": [
    "number = int(input(\"Enter a number: \"))\n",
    "\n",
    "match number: # Do not add any value here\n",
    "    case 0:\n",
    "        print(\"Zero\")\n",
    "    case 3:\n",
    "        print(\"Three\")\n",
    "    case x if x > 3:\n",
    "        print(f\"Greater than three: {x}\")\n",
    "    case _:\n",
    "        print(\"None of the case matches\")"
   ]
  },
  {
   "cell_type": "markdown",
   "metadata": {},
   "source": [
    "- While Loop\n",
    "- Break \n",
    "break Statement:\n",
    "Exits the loop entirely, regardless of the loop's condition.\n",
    "Control jumps to the statement after the loop. \n",
    "- Continue - continue Statement:\n",
    "Skips the remaining code in the current iteration of the loop.\n",
    "The loop jumps back to the beginning of the next iteration."
   ]
  },
  {
   "cell_type": "code",
   "execution_count": 15,
   "metadata": {},
   "outputs": [
    {
     "name": "stdout",
     "output_type": "stream",
     "text": [
      "The count is 10\n",
      "The count is 9\n",
      "Breaking at 8\n",
      "Loop ended\n"
     ]
    }
   ],
   "source": [
    "num1 = 10\n",
    "while num1 > 0:\n",
    "    if num1 == 5:\n",
    "        print(\"Skipping 5\")\n",
    "        num1 = num1 - 1  # Decrement to avoid infinite loop\n",
    "        continue  # Skip the rest of the loop when num1 is 5\n",
    "    elif num1 == 8:\n",
    "        print(\"Breaking at 8\")\n",
    "        break  # Exit the loop when num1 is 8\n",
    "    print(f\"The count is {num1}\")\n",
    "    num1 = num1 - 1\n",
    "    \n",
    "print(\"Loop ended\")\n",
    "    "
   ]
  },
  {
   "cell_type": "markdown",
   "metadata": {},
   "source": [
    "Nested Loops -  Nested loops consist of a loop inside another loop. The inner loop executes completely for each iteration of the outer loop. This is useful for creating patterns, performing calculations across multiple dimensions, and more."
   ]
  },
  {
   "cell_type": "code",
   "execution_count": 17,
   "metadata": {},
   "outputs": [
    {
     "name": "stdout",
     "output_type": "stream",
     "text": [
      "1 * 1 = 1 1 * 2 = 2 1 * 3 = 3 1 * 4 = 4 1 * 5 = 5 1 * 6 = 6 1 * 7 = 7 1 * 8 = 8 1 * 9 = 9 1 * 10 = 10 \n",
      "2 * 1 = 2 2 * 2 = 4 2 * 3 = 6 2 * 4 = 8 2 * 5 = 10 2 * 6 = 12 2 * 7 = 14 2 * 8 = 16 2 * 9 = 18 2 * 10 = 20 \n",
      "3 * 1 = 3 3 * 2 = 6 3 * 3 = 9 3 * 4 = 12 3 * 5 = 15 3 * 6 = 18 3 * 7 = 21 3 * 8 = 24 3 * 9 = 27 3 * 10 = 30 \n",
      "4 * 1 = 4 4 * 2 = 8 4 * 3 = 12 4 * 4 = 16 4 * 5 = 20 4 * 6 = 24 4 * 7 = 28 4 * 8 = 32 4 * 9 = 36 4 * 10 = 40 \n",
      "5 * 1 = 5 5 * 2 = 10 5 * 3 = 15 5 * 4 = 20 5 * 5 = 25 5 * 6 = 30 5 * 7 = 35 5 * 8 = 40 5 * 9 = 45 5 * 10 = 50 \n",
      "6 * 1 = 6 6 * 2 = 12 6 * 3 = 18 6 * 4 = 24 6 * 5 = 30 6 * 6 = 36 6 * 7 = 42 6 * 8 = 48 6 * 9 = 54 6 * 10 = 60 \n",
      "7 * 1 = 7 7 * 2 = 14 7 * 3 = 21 7 * 4 = 28 7 * 5 = 35 7 * 6 = 42 7 * 7 = 49 7 * 8 = 56 7 * 9 = 63 7 * 10 = 70 \n",
      "8 * 1 = 8 8 * 2 = 16 8 * 3 = 24 8 * 4 = 32 8 * 5 = 40 8 * 6 = 48 8 * 7 = 56 8 * 8 = 64 8 * 9 = 72 8 * 10 = 80 \n",
      "9 * 1 = 9 9 * 2 = 18 9 * 3 = 27 9 * 4 = 36 9 * 5 = 45 9 * 6 = 54 9 * 7 = 63 9 * 8 = 72 9 * 9 = 81 9 * 10 = 90 \n",
      "10 * 1 = 10 10 * 2 = 20 10 * 3 = 30 10 * 4 = 40 10 * 5 = 50 10 * 6 = 60 10 * 7 = 70 10 * 8 = 80 10 * 9 = 90 10 * 10 = 100 \n"
     ]
    }
   ],
   "source": [
    "# Printing a multiplication table\n",
    "for i in range(1, 11):\n",
    "    for j in range(1, 11):\n",
    "        print(f\"{i} * {j} = {i*j}\", end = ' ')\n",
    "    print()"
   ]
  }
 ],
 "metadata": {
  "kernelspec": {
   "display_name": "Python 3",
   "language": "python",
   "name": "python3"
  },
  "language_info": {
   "codemirror_mode": {
    "name": "ipython",
    "version": 3
   },
   "file_extension": ".py",
   "mimetype": "text/x-python",
   "name": "python",
   "nbconvert_exporter": "python",
   "pygments_lexer": "ipython3",
   "version": "3.13.5"
  }
 },
 "nbformat": 4,
 "nbformat_minor": 2
}
