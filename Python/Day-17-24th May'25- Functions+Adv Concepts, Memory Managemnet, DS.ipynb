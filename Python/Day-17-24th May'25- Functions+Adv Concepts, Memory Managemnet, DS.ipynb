{
 "cells": [
  {
   "cell_type": "markdown",
   "id": "9c51610d",
   "metadata": {},
   "source": [
    "Functions"
   ]
  },
  {
   "cell_type": "code",
   "execution_count": 2,
   "id": "d2db8320",
   "metadata": {},
   "outputs": [
    {
     "name": "stdout",
     "output_type": "stream",
     "text": [
      "10 + 20 = 30\n"
     ]
    }
   ],
   "source": [
    "def add(x, y):\n",
    "    \"\"\"Calculates the sum of two numbers.\n",
    "\n",
    "    Args:\n",
    "        x (int or float): The first number.\n",
    "        y (int or float): The second number.\n",
    "\n",
    "    Returns:\n",
    "        int or float: The sum of x and y.\n",
    "    \"\"\"\n",
    "    return x + y\n",
    "\n",
    "# Now, let's use our 'add' function\n",
    "result = add(10, 20)\n",
    "print(f\"10 + 20 = {result}\")"
   ]
  },
  {
   "cell_type": "markdown",
   "id": "19ab120a",
   "metadata": {},
   "source": [
    "Modules"
   ]
  },
  {
   "cell_type": "code",
   "execution_count": 3,
   "id": "3c4ec72c",
   "metadata": {},
   "outputs": [],
   "source": [
    "# my_module.py\n",
    "def greet(name):\n",
    "    print(f\"Hello, {name}!\")"
   ]
  },
  {
   "cell_type": "code",
   "execution_count": 4,
   "id": "c05ad2f5",
   "metadata": {},
   "outputs": [
    {
     "name": "stdout",
     "output_type": "stream",
     "text": [
      "Hello, Alice!\n"
     ]
    }
   ],
   "source": [
    "# main.py\n",
    "import my_module\n",
    "\n",
    "my_module.greet(\"Alice\")  # Output: Hello, Alice!"
   ]
  },
  {
   "cell_type": "markdown",
   "id": "85431762",
   "metadata": {},
   "source": [
    "User-Defined Modules"
   ]
  },
  {
   "cell_type": "code",
   "execution_count": 5,
   "id": "d818dc84",
   "metadata": {},
   "outputs": [],
   "source": [
    "# mymodule.py\n",
    "def SayHello(name):\n",
    "  print (\"Hi {}! How are you?\".format(name))\n",
    "  return"
   ]
  },
  {
   "cell_type": "code",
   "execution_count": 6,
   "id": "1e161c5e",
   "metadata": {},
   "outputs": [
    {
     "name": "stdout",
     "output_type": "stream",
     "text": [
      "Hi Alice! How are you?\n"
     ]
    }
   ],
   "source": [
    "# main.py\n",
    "import mymodule\n",
    "\n",
    "mymodule.SayHello(\"Alice\")  # Output: Hi Alice! How are you?"
   ]
  },
  {
   "cell_type": "code",
   "execution_count": 7,
   "id": "3cb63e31",
   "metadata": {},
   "outputs": [],
   "source": [
    "# my_utils.py\n",
    "def greet(name):\n",
    "    return f\"Hello, {name}!\"\n",
    "\n",
    "def calculate_area(length, width):\n",
    "    return length * width\n",
    "\n",
    "PI = 3.14159"
   ]
  },
  {
   "cell_type": "code",
   "execution_count": 8,
   "id": "fb62988f",
   "metadata": {},
   "outputs": [
    {
     "name": "stdout",
     "output_type": "stream",
     "text": [
      "Hello, Alice!\n",
      "20\n",
      "3.14159\n",
      "Hello, Bob!\n"
     ]
    }
   ],
   "source": [
    "# In your notebook or another Python file\n",
    "import my_utils\n",
    "\n",
    "# Using functions from the module\n",
    "print(my_utils.greet(\"Alice\"))  # Hello, Alice!\n",
    "print(my_utils.calculate_area(5, 4))  # 20\n",
    "print(my_utils.PI)  # 3.14159\n",
    "\n",
    "# Alternative import style\n",
    "from my_utils import greet, calculate_area\n",
    "print(greet(\"Bob\"))  # No module prefix needed"
   ]
  },
  {
   "cell_type": "markdown",
   "id": "a71cf688",
   "metadata": {},
   "source": [
    "Built-in Modules"
   ]
  },
  {
   "cell_type": "code",
   "execution_count": 9,
   "id": "8360bd50",
   "metadata": {},
   "outputs": [
    {
     "name": "stdout",
     "output_type": "stream",
     "text": [
      "5.0\n",
      "2025-05-24\n",
      "8\n",
      "c:\\Users\\spdco\\Downloads\\Hypha\\Python\\D3\n"
     ]
    }
   ],
   "source": [
    "# Math module\n",
    "import math\n",
    "print(math.sqrt(25))  # 5.0\n",
    "\n",
    "# Datetime module\n",
    "from datetime import date\n",
    "today = date.today()\n",
    "print(today)  # Current date\n",
    "\n",
    "# Random module\n",
    "import random\n",
    "print(random.randint(1, 10))  # Random number between 1-10\n",
    "\n",
    "# OS module\n",
    "import os\n",
    "print(os.getcwd())  # Current working directory"
   ]
  },
  {
   "cell_type": "markdown",
   "id": "a295f8a4",
   "metadata": {},
   "source": [
    "Python Memory Management - Reference counting"
   ]
  },
  {
   "cell_type": "code",
   "execution_count": null,
   "id": "f663665a",
   "metadata": {},
   "outputs": [],
   "source": [
    "a = [1, 2, 3] # Reference count of [1,2,3] is 1 (from 'a')\n",
    "Memory:\n",
    "[1, 2, 3] (refcount=1) ← a\n",
    "b = a         # Reference count of [1,2,3] is now 2 (from 'a' and 'b')\n",
    "Memory:\n",
    "[1, 2, 3] (refcount=2) ← a, b\n",
    "b = [1, 2, 3]  # Creates a NEW list object\n",
    "Memory:\n",
    "[1, 2, 3] (original, refcount=1) ← a\n",
    "[1, 2, 3] (new, refcount=1) ← b\n",
    "c = a         # Reference count of [1,2,3] is now 3 (from 'a', 'b', and 'c')"
   ]
  },
  {
   "cell_type": "code",
   "execution_count": null,
   "id": "af2cf03a",
   "metadata": {},
   "outputs": [],
   "source": [
    "del a # 'a' no longer points to [1,2,3]\n",
    "# Reference count of [1,2,3] is now 1 (from 'b')\n",
    "del b # 'b' no longer points to [1,2,3]\n",
    "# Reference count of [1,2,3] is now 0! Python can reclaim this memory."
   ]
  },
  {
   "cell_type": "markdown",
   "id": "14058858",
   "metadata": {},
   "source": [
    "Memory Management - Garbage Collection"
   ]
  },
  {
   "cell_type": "code",
   "execution_count": null,
   "id": "8e014a8a",
   "metadata": {},
   "outputs": [],
   "source": [
    "list1 = []\n",
    "list2 = []\n",
    "list1.append(list2)\n",
    "list2.append(list1)\n",
    "# Even if list1 and list2 are no longer directly accessible,\n",
    "# their reference counts might not go to zero due to the circular reference."
   ]
  },
  {
   "cell_type": "markdown",
   "id": "e4f09d37",
   "metadata": {},
   "source": [
    "Variable - Local Scope"
   ]
  },
  {
   "cell_type": "code",
   "execution_count": null,
   "id": "9ce5765e",
   "metadata": {},
   "outputs": [
    {
     "name": "stdout",
     "output_type": "stream",
     "text": [
      "10\n"
     ]
    }
   ],
   "source": [
    "def my_function():\n",
    "    x = 10  # Local variable 'x'\n",
    "    print(x)\n",
    "\n",
    "my_function()  # Output: 10\n",
    "# print(x)  # This would fail! 'x' is not accessible outside the function."
   ]
  },
  {
   "cell_type": "markdown",
   "id": "e71d130d",
   "metadata": {},
   "source": [
    "Variable - Global Scope"
   ]
  },
  {
   "cell_type": "code",
   "execution_count": 4,
   "id": "0a300f35",
   "metadata": {},
   "outputs": [
    {
     "name": "stdout",
     "output_type": "stream",
     "text": [
      "10\n",
      "10\n"
     ]
    }
   ],
   "source": [
    "x = 10  # Global variable 'x'\n",
    "\n",
    "def my_function():\n",
    "    print(x)  # Accessing the global variable\n",
    "\n",
    "my_function()  # Output: 10\n",
    "\n",
    "\n",
    "def mjfunction():\n",
    "    print(x)  # Accessing the global variable\n",
    "\n",
    "mjfunction()  # Output: 10"
   ]
  },
  {
   "cell_type": "markdown",
   "id": "8d9e3d6f",
   "metadata": {},
   "source": [
    "Variable Scope - Enclosing (Non-local) Scope)"
   ]
  },
  {
   "cell_type": "code",
   "execution_count": 16,
   "id": "6d81d64e",
   "metadata": {},
   "outputs": [
    {
     "name": "stdout",
     "output_type": "stream",
     "text": [
      "11\n",
      "20\n",
      "112\n"
     ]
    }
   ],
   "source": [
    "def outer_function():\n",
    "    x = 10  # Enclosing variable 'x'\n",
    "\n",
    "    def inner_function():\n",
    "        nonlocal x  # Referencing the enclosing variable\n",
    "        x += 1\n",
    "        print(x)\n",
    "\n",
    "    inner_function()  # Output: 11\n",
    "outer_function()\n",
    "\n",
    "def outer_function():\n",
    "    x = 112  # Enclosing variable 'x'\n",
    "\n",
    "    def inner_function():\n",
    "        x = 20  # Local variable 'x'\n",
    "        print(x)  # This will print the local 'x', not the enclosing one\n",
    "\n",
    "    inner_function()  # Output: 20\n",
    "    print(x)  # Output: 10 (the enclosing variable remains unchanged)\n",
    "outer_function()"
   ]
  },
  {
   "cell_type": "markdown",
   "id": "cfab9ac7",
   "metadata": {},
   "source": [
    "List Comprehensions"
   ]
  },
  {
   "cell_type": "code",
   "execution_count": 17,
   "id": "2708cc5c",
   "metadata": {},
   "outputs": [
    {
     "name": "stdout",
     "output_type": "stream",
     "text": [
      "Squares: [0, 1, 4, 9, 16, 25, 36, 49, 64, 81]\n",
      "Even Squares: [0, 4, 16, 36, 64]\n"
     ]
    }
   ],
   "source": [
    "# Squares of 0-9\n",
    "squares = [x**2 for x in range(10)]\n",
    "print(f\"Squares: {squares}\") # Output: [0, 1, 4, 9, 16, 25, 36, 49, 64, 81]\n",
    "\n",
    "# Squares of even numbers\n",
    "even_squares = [x**2 for x in range(10) if x % 2 == 0]\n",
    "print(f\"Even Squares: {even_squares}\") # Output: [0, 4, 16, 36, 64]"
   ]
  },
  {
   "cell_type": "markdown",
   "id": "a3b646a7",
   "metadata": {},
   "source": [
    "Generators"
   ]
  },
  {
   "cell_type": "code",
   "execution_count": 19,
   "id": "a994c5c5",
   "metadata": {},
   "outputs": [
    {
     "name": "stdout",
     "output_type": "stream",
     "text": [
      "Using the generator:\n",
      "0\n",
      "1\n",
      "2\n",
      "3\n",
      "4\n",
      "5\n"
     ]
    }
   ],
   "source": [
    "def count_up_to(n):\n",
    "    for i in range(n + 1):\n",
    "        yield i # 'yield' makes this a generator\n",
    "\n",
    "counter = count_up_to(5)\n",
    "print(\"Using the generator:\")\n",
    "for num in counter:\n",
    "    print(num)"
   ]
  },
  {
   "cell_type": "markdown",
   "id": "a5ab69ef",
   "metadata": {},
   "source": [
    "Data Structures"
   ]
  },
  {
   "cell_type": "markdown",
   "id": "2e6f8616",
   "metadata": {},
   "source": [
    "Built-In - Data Structures"
   ]
  },
  {
   "cell_type": "markdown",
   "id": "2f970162",
   "metadata": {},
   "source": [
    "Built-In - Data Structures - Lists"
   ]
  },
  {
   "cell_type": "code",
   "execution_count": 21,
   "id": "ba6bf62a",
   "metadata": {},
   "outputs": [
    {
     "name": "stdout",
     "output_type": "stream",
     "text": [
      "Initial fruits: ['apple', 'banana', 'cherry']\n",
      "After append: ['apple', 'banana', 'cherry', 'orange']\n",
      "After insert: ['apple', 'redberry', 'banana', 'cherry', 'orange']\n",
      "After remove: ['apple', 'redberry', 'cherry', 'orange']\n",
      "Popped fruit: orange, Fruits after pop: ['apple', 'redberry', 'cherry']\n",
      "After sort: ['apple', 'cherry', 'redberry']\n",
      "New sorted fruits: ['apple', 'cherry', 'redberry']\n",
      "First fruit: apple, Last fruit: redberry\n",
      "Subset: ['cherry', 'redberry']\n",
      "Lengths of fruits: [5, 6, 8]\n",
      "All fruits: ['apple', 'cherry', 'redberry', 'kiwi', 'mango']\n",
      "Repeated fruits: ['apple', 'cherry', 'redberry', 'apple', 'cherry', 'redberry']\n"
     ]
    }
   ],
   "source": [
    "# Creating a list\n",
    "fruits = ['apple', 'banana', 'cherry']\n",
    "print(f\"Initial fruits: {fruits}\")\n",
    "\n",
    "# Basic operations\n",
    "fruits.append('orange')        # Add element to end - Like adding an item at the bottom of your grocery list\n",
    "print(f\"After append: {fruits}\")\n",
    "\n",
    "fruits.insert(1, 'redberry')  # Insert at position - Like squeezing in 'milk' after 'bread'\n",
    "print(f\"After insert: {fruits}\")\n",
    "\n",
    "fruits.remove('banana')        # Remove by value - Crossing out 'banana'\n",
    "print(f\"After remove: {fruits}\")\n",
    "\n",
    "popped_fruit = fruits.pop()    # Remove and return last element - Taking the last item off your list\n",
    "print(f\"Popped fruit: {popped_fruit}, Fruits after pop: {fruits}\")\n",
    "\n",
    "fruits.sort()                  # Sort in-place - Arranging your list alphabetically\n",
    "print(f\"After sort: {fruits}\")\n",
    "\n",
    "sorted_fruits = sorted(fruits) # Return new sorted list - Making a new, sorted copy of your list\n",
    "print(f\"New sorted fruits: {sorted_fruits}\")\n",
    "\n",
    "# Accessing elements\n",
    "first_fruit = fruits[0]        # Indexing starts at 0 - The first item on your list\n",
    "last_fruit = fruits[-1]        # Negative indexing from end - The last item on your list\n",
    "print(f\"First fruit: {first_fruit}, Last fruit: {last_fruit}\")\n",
    "\n",
    "# Slicing\n",
    "subset = fruits[1:3]           # Elements from index 1 to 2 - A specific range of items\n",
    "print(f\"Subset: {subset}\")\n",
    "\n",
    "# Comprehensive operations\n",
    "lengths = [len(fruit) for fruit in fruits]  # List comprehension - A quick way to make a new list based on an existing one\n",
    "print(f\"Lengths of fruits: {lengths}\")\n",
    "\n",
    "# Concatenation and repetition\n",
    "more_fruits = ['kiwi', 'mango']\n",
    "all_fruits = fruits + more_fruits\n",
    "print(f\"All fruits: {all_fruits}\")\n",
    "\n",
    "repeated_fruits = fruits * 2\n",
    "print(f\"Repeated fruits: {repeated_fruits}\")"
   ]
  },
  {
   "cell_type": "markdown",
   "id": "37ef7cc4",
   "metadata": {},
   "source": [
    "Built-In - Data Structures - Tuples"
   ]
  },
  {
   "cell_type": "code",
   "execution_count": 28,
   "id": "ef52c1f2",
   "metadata": {},
   "outputs": [
    {
     "name": "stdout",
     "output_type": "stream",
     "text": [
      "Coordinates: (10, 20), Person: ('John', 25, 'New York')\n",
      "Name: John, Age: 25, City: New York\n",
      "X coordinate: 10\n",
      "Count of 25: 1, Index of 'John': 0\n",
      "Attempting to modify a tuple will raise an error.\n"
     ]
    }
   ],
   "source": [
    "# Creating a tuple\n",
    "coordinates = (10, 20)\n",
    "person = ('John', 25, 'New York')\n",
    "print(f\"Coordinates: {coordinates}, Person: {person}\")\n",
    "\n",
    "# Unpacking - A neat way to assign tuple elements to variables\n",
    "name, age, city = person\n",
    "print(f\"Name: {name}, Age: {age}, City: {city}\")\n",
    "\n",
    "# Accessing elements\n",
    "x = coordinates[0]\n",
    "print(f\"X coordinate: {x}\")\n",
    "\n",
    "# Tuple methods\n",
    "count = person.count(25)     # Count occurrences\n",
    "index = person.index('John') # Find index of element\n",
    "print(f\"Count of 25: {count}, Index of 'John': {index}\")\n",
    "\n",
    "# Cannot modify tuples\n",
    "# This will raise an error:\n",
    "# coordinates[0] = 15\n",
    "# print(coordinates)\n",
    "print(\"Attempting to modify a tuple will raise an error.\")"
   ]
  },
  {
   "cell_type": "markdown",
   "id": "ac7e3ae7",
   "metadata": {},
   "source": [
    "Dictionaries"
   ]
  },
  {
   "cell_type": "code",
   "execution_count": 29,
   "id": "8206c671",
   "metadata": {},
   "outputs": [
    {
     "name": "stdout",
     "output_type": "stream",
     "text": [
      "Initial student dictionary: {'name': 'Alice', 'age': 20, 'courses': ['Math', 'CS']}\n",
      "Student name: Alice\n",
      "Student age after modification: 21\n",
      "Student after adding GPA: {'name': 'Alice', 'age': 21, 'courses': ['Math', 'CS'], 'gpa': 3.8}\n",
      "Student grade: N/A\n",
      "Keys: ['name', 'age', 'courses', 'gpa'], Values: ['Alice', 21, ['Math', 'CS'], 3.8], Items: [('name', 'Alice'), ('age', 21), ('courses', ['Math', 'CS']), ('gpa', 3.8)]\n",
      "Iterating through student dictionary:\n",
      "name: Alice\n",
      "age: 21\n",
      "courses: ['Math', 'CS']\n",
      "gpa: 3.8\n",
      "Squares dictionary: {0: 0, 1: 1, 2: 4, 3: 9, 4: 16, 5: 25}\n"
     ]
    }
   ],
   "source": [
    "# Creating a dictionary\n",
    "student = {\n",
    "    'name': 'Alice',\n",
    "    'age': 20,\n",
    "    'courses': ['Math', 'CS']\n",
    "}\n",
    "print(f\"Initial student dictionary: {student}\")\n",
    "\n",
    "# Accessing and modifying\n",
    "print(f\"Student name: {student['name']}\")       # Access by key\n",
    "student['age'] = 21          # Modify value\n",
    "print(f\"Student age after modification: {student['age']}\")\n",
    "\n",
    "student['gpa'] = 3.8         # Add new key-value pair\n",
    "print(f\"Student after adding GPA: {student}\")\n",
    "\n",
    "# Safely accessing\n",
    "grade = student.get('grade', 'N/A')  # Returns 'N/A' if key doesn't exist, preventing errors\n",
    "print(f\"Student grade: {grade}\")\n",
    "\n",
    "# Dictionary methods\n",
    "keys = student.keys()        # View of keys - Like looking at all the words in a dictionary\n",
    "values = student.values()    # View of values - Like looking at all the meanings\n",
    "items = student.items()      # View of (key, value) pairs - Like seeing both word and meaning\n",
    "print(f\"Keys: {list(keys)}, Values: {list(values)}, Items: {list(items)}\")\n",
    "\n",
    "# Iterating\n",
    "print(\"Iterating through student dictionary:\")\n",
    "for key, value in student.items():\n",
    "    print(f\"{key}: {value}\")\n",
    "\n",
    "# Dictionary comprehension\n",
    "squares = {x: x*x for x in range(6)} # A concise way to create dictionaries\n",
    "print(f\"Squares dictionary: {squares}\")"
   ]
  },
  {
   "cell_type": "markdown",
   "id": "cdba29e8",
   "metadata": {},
   "source": [
    "Stacks and Queues"
   ]
  },
  {
   "cell_type": "code",
   "execution_count": 36,
   "id": "4483d181",
   "metadata": {},
   "outputs": [
    {
     "name": "stdout",
     "output_type": "stream",
     "text": [
      "Stack after pushes: [1, 6, 3, 4]\n",
      "Popped element: 4\n",
      "Top element (peek): 6\n",
      "Stack size: 3\n",
      "Stack after all: [1, 6, 3]\n"
     ]
    }
   ],
   "source": [
    "class Stack:\n",
    "    def __init__(self):\n",
    "        self.items = [] # We'll use a Python list as the underlying storage\n",
    "\n",
    "    def push(self, item):\n",
    "        self.items.append(item) # Adding to the end of the list is O(1) amortized\n",
    "\n",
    "    def pop(self):\n",
    "        if not self.is_empty():\n",
    "            return self.items.pop() # Removing from the end of the list is O(1)\n",
    "        return None # Indicate stack is empty\n",
    "\n",
    "    def peek(self):\n",
    "        if not self.is_empty():\n",
    "            return self.items[-2] # Look at the top element without removing\n",
    "        return None\n",
    "\n",
    "    def is_empty(self):\n",
    "        return len(self.items) == 0\n",
    "\n",
    "    def size(self):\n",
    "        return len(self.items)\n",
    "\n",
    "# Example usage\n",
    "stack = Stack()\n",
    "stack.push(1)\n",
    "stack.push(6)\n",
    "stack.push(3)\n",
    "stack.push(4)\n",
    "print(f\"Stack after pushes: {stack.items}\")\n",
    "print(f\"Popped element: {stack.pop()}\")  # Output: 3\n",
    "print(f\"Top element (peek): {stack.peek()}\")  # Output: 2\n",
    "print(f\"Stack size: {stack.size()}\")  # Output: 2\n",
    "print(f\"Stack after all: {stack.items}\")"
   ]
  },
  {
   "cell_type": "markdown",
   "id": "442363b1",
   "metadata": {},
   "source": [
    "Queue Implementation"
   ]
  },
  {
   "cell_type": "code",
   "execution_count": 38,
   "id": "50cf7eab",
   "metadata": {},
   "outputs": [
    {
     "name": "stdout",
     "output_type": "stream",
     "text": [
      "Queue after enqueues: [1, 2, 3, 4]\n",
      "Dequeued element: 1\n",
      "Front element: 2\n",
      "Queue size: 3\n",
      "Queue after all: [2, 3, 4]\n"
     ]
    }
   ],
   "source": [
    "from collections import deque\n",
    "\n",
    "class Queue:\n",
    "    def __init__(self):\n",
    "        self.items = deque() # Using deque for efficient left-end operations\n",
    "\n",
    "    def enqueue(self, item):\n",
    "        self.items.append(item) # Add to the right (end of the queue)\n",
    "\n",
    "    def dequeue(self):\n",
    "        if not self.is_empty():\n",
    "            return self.items.popleft() # Remove from the left (front of the queue)\n",
    "        return None\n",
    "\n",
    "    def front(self):\n",
    "        if not self.is_empty():\n",
    "            return self.items[0] # Look at the front element\n",
    "        return None\n",
    "\n",
    "    def is_empty(self):\n",
    "        return len(self.items) == 0\n",
    "\n",
    "    def size(self):\n",
    "        return len(self.items)\n",
    "\n",
    "# Example usage\n",
    "queue = Queue()\n",
    "queue.enqueue(1)\n",
    "queue.enqueue(2)\n",
    "queue.enqueue(3)\n",
    "queue.enqueue(4)\n",
    "print(f\"Queue after enqueues: {list(queue.items)}\")\n",
    "print(f\"Dequeued element: {queue.dequeue()}\")  # Output: 1\n",
    "print(f\"Front element: {queue.front()}\")    # Output: 2\n",
    "print(f\"Queue size: {queue.size()}\")     # Output: 2\n",
    "print(f\"Queue after all: {list(queue.items)}\")"
   ]
  },
  {
   "cell_type": "markdown",
   "id": "4d535cd1",
   "metadata": {},
   "source": [
    "Priority Queue"
   ]
  },
  {
   "cell_type": "code",
   "execution_count": null,
   "id": "4d815ad3",
   "metadata": {},
   "outputs": [
    {
     "name": "stdout",
     "output_type": "stream",
     "text": [
      "Priority Queue elements (internal): [(1, 'task2'), (3, 'task1'), (2, 'task3')]\n",
      "Getting highest priority item: task2\n",
      "Getting next highest priority item: task3\n",
      "Priority Queue size: 1\n",
      "Getting last item: task1\n"
     ]
    }
   ],
   "source": [
    "import heapq\n",
    "\n",
    "class PriorityQueue:\n",
    "    def __init__(self):\n",
    "        self.elements = [] # Stores (priority, item) tuples\n",
    "\n",
    "    def put(self, item, priority):\n",
    "        # heapq is a min-heap, so lower priority values come first\n",
    "        heapq.heappush(self.elements, (priority, item))\n",
    "\n",
    "    def get(self):\n",
    "        if not self.is_empty():\n",
    "            return heapq.heappop(self.elements)[1] # Pop the item with the lowest priority value\n",
    "        return None\n",
    "\n",
    "    def is_empty(self):\n",
    "        return len(self.elements) == 0\n",
    "\n",
    "    def size(self):\n",
    "        return len(self.elements)\n",
    "\n",
    "# Example usage\n",
    "pq = PriorityQueue()\n",
    "pq.put(\"task1\", 3) # Priority 3\n",
    "pq.put(\"task2\", 1) # Priority 1 (highest)\n",
    "pq.put(\"task3\", 2) # Priority 2\n",
    "print(f\"Priority Queue elements (internal): {pq.elements}\")\n",
    "print(f\"Getting highest priority item: {pq.get()}\")  # Output: task2 (lowest priority value first)\n",
    "print(f\"Getting next highest priority item: {pq.get()}\")  # Output: task3"
   ]
  },
  {
   "cell_type": "markdown",
   "id": "16744fe3",
   "metadata": {},
   "source": [
    "Deque (Double-Ended Queue)"
   ]
  },
  {
   "cell_type": "code",
   "execution_count": 46,
   "id": "fa744bf9",
   "metadata": {},
   "outputs": [
    {
     "name": "stdout",
     "output_type": "stream",
     "text": [
      "Deque after various appends/extends: deque([6, 5, 2, 1, 3, 4])\n",
      "Deque after pop(): deque([6, 5, 2, 1, 3])\n",
      "Deque after popleft(): deque([5, 2, 1, 3])\n",
      "Deque after rotate(1): deque([3, 5, 2, 1])\n",
      "Deque after rotate(-1): deque([5, 2, 1, 3])\n"
     ]
    }
   ],
   "source": [
    "from collections import deque\n",
    "\n",
    "d = deque()\n",
    "d.append(1)       # Add to right end\n",
    "d.appendleft(2)   # Add to left end\n",
    "d.extend([3, 4])  # Extend right side with multiple elements\n",
    "d.extendleft([5, 6])  # Extend left side (note: items are added in reverse order of the iterable)\n",
    "print(f\"Deque after various appends/extends: {d}\") # Output: deque([6, 5, 2, 1, 3, 4])\n",
    "\n",
    "d.pop()           # Remove from right end\n",
    "print(f\"Deque after pop(): {d}\") # Output: deque([6, 5, 2, 1, 3])\n",
    "\n",
    "d.popleft()       # Remove from left end\n",
    "print(f\"Deque after popleft(): {d}\") # Output: deque([5, 2, 1, 3])\n",
    "\n",
    "d.rotate(1)       # Rotate right by 1 (moves rightmost element to the leftmost)\n",
    "print(f\"Deque after rotate(1): {d}\") # Output: deque([3, 5, 2, 1])\n",
    "\n",
    "d.rotate(-1)      # Rotate left by 1 (moves leftmost element to the rightmost)\n",
    "print(f\"Deque after rotate(-1): {d}\") # Output: deque([5, 2, 1, 3])"
   ]
  },
  {
   "cell_type": "markdown",
   "id": "75f06507",
   "metadata": {},
   "source": [
    "Linked Lists - Singly Linked Lists"
   ]
  },
  {
   "cell_type": "code",
   "execution_count": 47,
   "id": "d33abbda",
   "metadata": {},
   "outputs": [
    {
     "name": "stdout",
     "output_type": "stream",
     "text": [
      "Singly Linked List:\n",
      "0 -> 1 -> 2 -> 3 -> None\n",
      "Singly Linked List after deleting 2:\n",
      "0 -> 1 -> 3 -> None\n"
     ]
    }
   ],
   "source": [
    "class Node:\n",
    "    def __init__(self, data):\n",
    "        self.data = data\n",
    "        self.next = None # Pointer to the next node, initially None\n",
    "\n",
    "class SinglyLinkedList:\n",
    "    def __init__(self):\n",
    "        self.head = None # The starting point of our list\n",
    "\n",
    "    def append(self, data):\n",
    "        new_node = Node(data)\n",
    "        if not self.head: # If the list is empty, this new node becomes the head\n",
    "            self.head = new_node\n",
    "            return\n",
    "\n",
    "        current = self.head\n",
    "        while current.next: # Traverse to the end of the list\n",
    "            current = current.next\n",
    "        current.next = new_node # Link the last node to the new node\n",
    "\n",
    "    def prepend(self, data):\n",
    "        new_node = Node(data)\n",
    "        new_node.next = self.head # New node points to the current head\n",
    "        self.head = new_node # New node becomes the new head\n",
    "\n",
    "    def delete(self, key):\n",
    "        current = self.head\n",
    "\n",
    "        # Case 1: Head node holds the key\n",
    "        if current and current.data == key:\n",
    "            self.head = current.next # Move head to the next node\n",
    "            return\n",
    "\n",
    "        # Case 2: Search for the key in the rest of the list\n",
    "        prev = None\n",
    "        while current and current.data != key:\n",
    "            prev = current\n",
    "            current = current.next\n",
    "\n",
    "        # If key was not found\n",
    "        if not current:\n",
    "            return\n",
    "\n",
    "        # Unlink the node: prev node now points to current's next node\n",
    "        prev.next = current.next\n",
    "\n",
    "    def print_list(self):\n",
    "        current = self.head\n",
    "        while current:\n",
    "            print(current.data, end=\" -> \")\n",
    "            current = current.next\n",
    "        print(\"None\") # Indicates the end of the list\n",
    "\n",
    "# Example usage\n",
    "sll = SinglyLinkedList()\n",
    "sll.append(1)\n",
    "sll.append(2)\n",
    "sll.append(3)\n",
    "sll.prepend(0)\n",
    "print(\"Singly Linked List:\")\n",
    "sll.print_list()  # Output: 0 -> 1 -> 2 -> 3 -> None\n",
    "sll.delete(2)\n",
    "print(\"Singly Linked List after deleting 2:\")\n",
    "sll.print_list()  # Output: 0 -> 1 -> 3 -> None"
   ]
  },
  {
   "cell_type": "markdown",
   "id": "87387e9a",
   "metadata": {},
   "source": [
    "Linked Lists -Doubly Linked Lists"
   ]
  },
  {
   "cell_type": "code",
   "execution_count": 48,
   "id": "c3234ce4",
   "metadata": {},
   "outputs": [
    {
     "name": "stdout",
     "output_type": "stream",
     "text": [
      "Doubly Linked List:\n",
      "0 <-> 1 <-> 2 <-> 3 <-> None\n",
      "Doubly Linked List after deleting 2:\n",
      "0 <-> 1 <-> 3 <-> None\n"
     ]
    }
   ],
   "source": [
    "class Node:\n",
    "    def __init__(self, data):\n",
    "        self.data = data\n",
    "        self.next = None\n",
    "        self.prev = None # Pointer to the previous node\n",
    "\n",
    "class DoublyLinkedList:\n",
    "    def __init__(self):\n",
    "        self.head = None\n",
    "        self.tail = None # We also keep track of the tail for efficient appends\n",
    "\n",
    "    def append(self, data):\n",
    "        new_node = Node(data)\n",
    "\n",
    "        if not self.head: # If list is empty\n",
    "            self.head = new_node\n",
    "            self.tail = new_node\n",
    "            return\n",
    "\n",
    "        new_node.prev = self.tail # New node's prev points to current tail\n",
    "        self.tail.next = new_node # Current tail's next points to new node\n",
    "        self.tail = new_node # New node becomes the new tail\n",
    "\n",
    "    def prepend(self, data):\n",
    "        new_node = Node(data)\n",
    "\n",
    "        if not self.head: # If list is empty\n",
    "            self.head = new_node\n",
    "            self.tail = new_node\n",
    "            return\n",
    "\n",
    "        new_node.next = self.head # New node's next points to current head\n",
    "        self.head.prev = new_node # Current head's prev points to new node\n",
    "        self.head = new_node # New node becomes the new head\n",
    "\n",
    "    def delete(self, key):\n",
    "        current = self.head\n",
    "\n",
    "        if not current: # If list is empty\n",
    "            return\n",
    "\n",
    "        # Case 1: If head node holds the key\n",
    "        if current.data == key:\n",
    "            if not current.next: # If it's the only node\n",
    "                self.head = None\n",
    "                self.tail = None\n",
    "                return\n",
    "            else: # More than one node\n",
    "                self.head = current.next\n",
    "                self.head.prev = None\n",
    "                return\n",
    "\n",
    "        # Case 2: If tail node holds the key (optimization for last element)\n",
    "        if self.tail.data == key:\n",
    "            self.tail = self.tail.prev\n",
    "            self.tail.next = None\n",
    "            return\n",
    "\n",
    "        # Case 3: Search for the key in the middle\n",
    "        while current and current.data != key:\n",
    "            current = current.next\n",
    "\n",
    "        # If key was not found\n",
    "        if not current:\n",
    "            return\n",
    "\n",
    "        # Unlink the node\n",
    "        current.prev.next = current.next\n",
    "        if current.next: # If it's not the last node\n",
    "            current.next.prev = current.prev\n",
    "\n",
    "    def print_list(self):\n",
    "        current = self.head\n",
    "        while current:\n",
    "            print(current.data, end=\" <-> \")\n",
    "            current = current.next\n",
    "        print(\"None\")\n",
    "\n",
    "# Example usage\n",
    "dll = DoublyLinkedList()\n",
    "dll.append(1)\n",
    "dll.append(2)\n",
    "dll.append(3)\n",
    "dll.prepend(0)\n",
    "print(\"Doubly Linked List:\")\n",
    "dll.print_list()  # Output: 0 <-> 1 <-> 2 <-> 3 <-> None\n",
    "dll.delete(2)\n",
    "print(\"Doubly Linked List after deleting 2:\")\n",
    "dll.print_list()  # Output: 0 <-> 1 <-> 3 <-> None"
   ]
  },
  {
   "cell_type": "markdown",
   "id": "42f8f05c",
   "metadata": {},
   "source": [
    "Linked Lists -Circular Linked List"
   ]
  },
  {
   "cell_type": "code",
   "execution_count": 49,
   "id": "bf43533b",
   "metadata": {},
   "outputs": [
    {
     "name": "stdout",
     "output_type": "stream",
     "text": [
      "Circular Linked List:\n",
      "0 -> 1 -> 2 -> 3 -> (back to head)\n",
      "Circular Linked List after deleting 2:\n",
      "0 -> 1 -> 3 -> (back to head)\n"
     ]
    }
   ],
   "source": [
    "class Node:\n",
    "    def __init__(self, data):\n",
    "        self.data = data\n",
    "        self.next = None\n",
    "\n",
    "class CircularLinkedList:\n",
    "    def __init__(self):\n",
    "        self.head = None\n",
    "\n",
    "    def append(self, data):\n",
    "        new_node = Node(data)\n",
    "\n",
    "        if not self.head: # If list is empty\n",
    "            self.head = new_node\n",
    "            new_node.next = self.head # Points to itself\n",
    "            return\n",
    "\n",
    "        current = self.head\n",
    "        while current.next != self.head: # Traverse until we find the last node\n",
    "            current = current.next\n",
    "\n",
    "        current.next = new_node # Last node points to new node\n",
    "        new_node.next = self.head # New node points back to head\n",
    "\n",
    "    def prepend(self, data):\n",
    "        new_node = Node(data)\n",
    "\n",
    "        if not self.head: # If list is empty\n",
    "            self.head = new_node\n",
    "            new_node.next = self.head\n",
    "            return\n",
    "\n",
    "        current = self.head\n",
    "        while current.next != self.head:\n",
    "            current = current.next\n",
    "\n",
    "        new_node.next = self.head # New node points to current head\n",
    "        current.next = new_node # Old last node points to new node\n",
    "        self.head = new_node # New node becomes the new head\n",
    "\n",
    "    def delete(self, key):\n",
    "        if not self.head:\n",
    "            return\n",
    "\n",
    "        # Case 1: Head node is the only node and holds the key\n",
    "        if self.head.data == key and self.head.next == self.head:\n",
    "            self.head = None\n",
    "            return\n",
    "\n",
    "        # Case 2: Head node holds the key, but there are other nodes\n",
    "        if self.head.data == key:\n",
    "            current = self.head\n",
    "            while current.next != self.head:\n",
    "                current = current.next\n",
    "            current.next = self.head.next # Last node points to new head\n",
    "            self.head = self.head.next # Move head to next node\n",
    "            return\n",
    "\n",
    "        # Case 3: Search for the key in the rest of the list\n",
    "        prev = None\n",
    "        current = self.head\n",
    "        while current.next != self.head:\n",
    "            if current.data == key:\n",
    "                break\n",
    "            prev = current\n",
    "            current = current.next\n",
    "\n",
    "        # If key was found (and it's not the head)\n",
    "        if current.data == key:\n",
    "            prev.next = current.next\n",
    "\n",
    "    def print_list(self):\n",
    "        if not self.head:\n",
    "            return\n",
    "\n",
    "        current = self.head\n",
    "        while True:\n",
    "            print(current.data, end=\" -> \")\n",
    "            current = current.next\n",
    "            if current == self.head: # Stop when we loop back to the head\n",
    "                break\n",
    "        print(\"(back to head)\")\n",
    "\n",
    "# Example usage\n",
    "cll = CircularLinkedList()\n",
    "cll.append(1)\n",
    "cll.append(2)\n",
    "cll.append(3)\n",
    "cll.prepend(0)\n",
    "print(\"Circular Linked List:\")\n",
    "cll.print_list()  # Output: 0 -> 1 -> 2 -> 3 -> (back to head)\n",
    "cll.delete(2)\n",
    "print(\"Circular Linked List after deleting 2:\")\n",
    "cll.print_list()  # Output: 0 -> 1 -> 3 -> (back to head)"
   ]
  },
  {
   "cell_type": "markdown",
   "id": "dfa7929d",
   "metadata": {},
   "source": [
    "Trees - Binary Trees"
   ]
  },
  {
   "cell_type": "code",
   "execution_count": 57,
   "id": "a5cbb33f",
   "metadata": {},
   "outputs": [
    {
     "name": "stdout",
     "output_type": "stream",
     "text": [
      "Binary tree created.\n"
     ]
    }
   ],
   "source": [
    "class TreeNode:\n",
    "    def __init__(self, data):\n",
    "        self.data = data\n",
    "        self.left = None # Pointer to the left child\n",
    "        self.right = None # Pointer to the right child\n",
    "\n",
    "# Example of building a simple binary tree\n",
    "#        1\n",
    "#     /    \\\n",
    "#    2      3\n",
    "#   / \\    / \\\n",
    "#  4   5  6   7\n",
    "root = TreeNode(1)\n",
    "root.left = TreeNode(2)\n",
    "root.right = TreeNode(3)\n",
    "root.left.left = TreeNode(4)\n",
    "root.left.right = TreeNode(5)\n",
    "root.right.left = TreeNode(6)\n",
    "root.right.right = TreeNode(7)\n",
    "print(\"Binary tree created.\")"
   ]
  },
  {
   "cell_type": "code",
   "execution_count": null,
   "id": "56ce2e7f",
   "metadata": {},
   "outputs": [
    {
     "name": "stdout",
     "output_type": "stream",
     "text": [
      "\n",
      "Inorder traversal:\n",
      "4 2 5 1 6 3 7 \n",
      "Preorder traversal:\n",
      "1 2 4 5 3 6 7 \n",
      "Postorder traversal:\n",
      "4 5 2 6 7 3 1 \n",
      "Level order traversal:\n",
      "1 2 3 4 5 6 7 "
     ]
    }
   ],
   "source": [
    "def inorder(root):\n",
    "    if root:\n",
    "        inorder(root.left)\n",
    "        print(root.data, end=\" \")\n",
    "        inorder(root.right)\n",
    "\n",
    "def preorder(root):\n",
    "    if root:\n",
    "        print(root.data, end=\" \")\n",
    "        preorder(root.left)\n",
    "        preorder(root.right)\n",
    "\n",
    "def postorder(root):\n",
    "    if root:\n",
    "        postorder(root.left)\n",
    "        postorder(root.right)\n",
    "        print(root.data, end=\" \")\n",
    "\n",
    "def level_order(root):\n",
    "    if not root:\n",
    "        return\n",
    "\n",
    "    queue = [root] # We'll use a list as a simple queue for this\n",
    "    while queue:\n",
    "        node = queue.pop(0) # Dequeue the front node\n",
    "        print(node.data, end=\" \")\n",
    "\n",
    "        if node.left:\n",
    "            queue.append(node.left)\n",
    "        if node.right:\n",
    "            queue.append(node.right)\n",
    "\n",
    "# Example usage with our 'root' tree\n",
    "print(\"\\nInorder traversal:\")\n",
    "inorder(root)  # Output: 4 2 5 1 3 (notice how it's sorted if it were a BST)\n",
    "\n",
    "print(\"\\nPreorder traversal:\")\n",
    "preorder(root)  # Output: 1 2 4 5 3 (root first)\n",
    "\n",
    "print(\"\\nPostorder traversal:\")\n",
    "postorder(root)  # Output: 4 5 2 3 1 (root last)\n",
    "\n",
    "print(\"\\nLevel order traversal:\")\n",
    "level_order(root)  # Output: 1 2 3 4 5 (level by level)\n",
    "\n",
    "\n",
    "# Example of building a simple binary tree\n",
    "#        1\n",
    "#     /    \\\n",
    "#    2      3\n",
    "#   / \\    / \\\n",
    "#  4   5  6   7\n",
    "\n",
    "#Inorder traversal:      Left, Root, Right\n",
    "#Preorder traversal:     Root, Left, Right\n",
    "#Postorder traversal:    Left, Right, Root\n",
    "#Level_order traversal:  Level by level, left to right\n",
    "\n",
    "#Inorder Traversal: 4,2,5,1,3,6,7\n",
    "#Preorder Traversal: 1,2,4,5,3,6,7\n",
    "#Postorder Traversal: 4,5,2,3,6,7,1\n",
    "#Level Order Traversal: 1,2,3,4,5,6,7"
   ]
  }
 ],
 "metadata": {
  "kernelspec": {
   "display_name": "Python 3",
   "language": "python",
   "name": "python3"
  },
  "language_info": {
   "codemirror_mode": {
    "name": "ipython",
    "version": 3
   },
   "file_extension": ".py",
   "mimetype": "text/x-python",
   "name": "python",
   "nbconvert_exporter": "python",
   "pygments_lexer": "ipython3",
   "version": "3.13.3"
  }
 },
 "nbformat": 4,
 "nbformat_minor": 5
}
